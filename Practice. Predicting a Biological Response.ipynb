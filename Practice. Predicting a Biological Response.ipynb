{
 "cells": [
  {
   "cell_type": "code",
   "execution_count": 21,
   "metadata": {},
   "outputs": [],
   "source": [
    "#импорт библиотек\n",
    "import numpy as np #для матричных вычислений\n",
    "import pandas as pd #для анализа и предобработки данных\n",
    "import matplotlib.pyplot as plt #для визуализации\n",
    "\n",
    "from sklearn import linear_model #линейные моделиё\n",
    "from sklearn import tree #деревья решений\n",
    "from sklearn import ensemble #ансамбли\n",
    "from sklearn import metrics #метрики\n",
    "from sklearn import preprocessing #предобработка\n",
    "from sklearn.model_selection import train_test_split #сплитование выборки\n",
    "from sklearn.model_selection import GridSearchCV\n",
    "from sklearn.model_selection import RandomizedSearchCV\n",
    "from sklearn.model_selection import cross_val_score\n",
    "import hyperopt\n",
    "from hyperopt import hp, fmin, tpe, Trials\n",
    "import optuna\n",
    "from sklearn.decomposition import PCA\n",
    "from sklearn.feature_selection import SelectKBest, f_regression\n",
    "\n",
    "%matplotlib inline\n",
    "plt.style.use('seaborn-v0_8')"
   ]
  },
  {
   "cell_type": "code",
   "execution_count": 22,
   "metadata": {},
   "outputs": [
    {
     "data": {
      "text/html": [
       "<div>\n",
       "<style scoped>\n",
       "    .dataframe tbody tr th:only-of-type {\n",
       "        vertical-align: middle;\n",
       "    }\n",
       "\n",
       "    .dataframe tbody tr th {\n",
       "        vertical-align: top;\n",
       "    }\n",
       "\n",
       "    .dataframe thead th {\n",
       "        text-align: right;\n",
       "    }\n",
       "</style>\n",
       "<table border=\"1\" class=\"dataframe\">\n",
       "  <thead>\n",
       "    <tr style=\"text-align: right;\">\n",
       "      <th></th>\n",
       "      <th>Activity</th>\n",
       "      <th>D1</th>\n",
       "      <th>D2</th>\n",
       "      <th>D3</th>\n",
       "      <th>D4</th>\n",
       "      <th>D5</th>\n",
       "      <th>D6</th>\n",
       "      <th>D7</th>\n",
       "      <th>D8</th>\n",
       "      <th>D9</th>\n",
       "      <th>...</th>\n",
       "      <th>D1767</th>\n",
       "      <th>D1768</th>\n",
       "      <th>D1769</th>\n",
       "      <th>D1770</th>\n",
       "      <th>D1771</th>\n",
       "      <th>D1772</th>\n",
       "      <th>D1773</th>\n",
       "      <th>D1774</th>\n",
       "      <th>D1775</th>\n",
       "      <th>D1776</th>\n",
       "    </tr>\n",
       "  </thead>\n",
       "  <tbody>\n",
       "    <tr>\n",
       "      <th>0</th>\n",
       "      <td>1</td>\n",
       "      <td>0.000000</td>\n",
       "      <td>0.497009</td>\n",
       "      <td>0.10</td>\n",
       "      <td>0.0</td>\n",
       "      <td>0.132956</td>\n",
       "      <td>0.678031</td>\n",
       "      <td>0.273166</td>\n",
       "      <td>0.585445</td>\n",
       "      <td>0.743663</td>\n",
       "      <td>...</td>\n",
       "      <td>0</td>\n",
       "      <td>0</td>\n",
       "      <td>0</td>\n",
       "      <td>0</td>\n",
       "      <td>0</td>\n",
       "      <td>0</td>\n",
       "      <td>0</td>\n",
       "      <td>0</td>\n",
       "      <td>0</td>\n",
       "      <td>0</td>\n",
       "    </tr>\n",
       "    <tr>\n",
       "      <th>1</th>\n",
       "      <td>1</td>\n",
       "      <td>0.366667</td>\n",
       "      <td>0.606291</td>\n",
       "      <td>0.05</td>\n",
       "      <td>0.0</td>\n",
       "      <td>0.111209</td>\n",
       "      <td>0.803455</td>\n",
       "      <td>0.106105</td>\n",
       "      <td>0.411754</td>\n",
       "      <td>0.836582</td>\n",
       "      <td>...</td>\n",
       "      <td>1</td>\n",
       "      <td>1</td>\n",
       "      <td>1</td>\n",
       "      <td>1</td>\n",
       "      <td>0</td>\n",
       "      <td>1</td>\n",
       "      <td>0</td>\n",
       "      <td>0</td>\n",
       "      <td>1</td>\n",
       "      <td>0</td>\n",
       "    </tr>\n",
       "    <tr>\n",
       "      <th>2</th>\n",
       "      <td>1</td>\n",
       "      <td>0.033300</td>\n",
       "      <td>0.480124</td>\n",
       "      <td>0.00</td>\n",
       "      <td>0.0</td>\n",
       "      <td>0.209791</td>\n",
       "      <td>0.610350</td>\n",
       "      <td>0.356453</td>\n",
       "      <td>0.517720</td>\n",
       "      <td>0.679051</td>\n",
       "      <td>...</td>\n",
       "      <td>0</td>\n",
       "      <td>0</td>\n",
       "      <td>0</td>\n",
       "      <td>0</td>\n",
       "      <td>0</td>\n",
       "      <td>0</td>\n",
       "      <td>0</td>\n",
       "      <td>0</td>\n",
       "      <td>0</td>\n",
       "      <td>0</td>\n",
       "    </tr>\n",
       "    <tr>\n",
       "      <th>3</th>\n",
       "      <td>1</td>\n",
       "      <td>0.000000</td>\n",
       "      <td>0.538825</td>\n",
       "      <td>0.00</td>\n",
       "      <td>0.5</td>\n",
       "      <td>0.196344</td>\n",
       "      <td>0.724230</td>\n",
       "      <td>0.235606</td>\n",
       "      <td>0.288764</td>\n",
       "      <td>0.805110</td>\n",
       "      <td>...</td>\n",
       "      <td>0</td>\n",
       "      <td>0</td>\n",
       "      <td>0</td>\n",
       "      <td>0</td>\n",
       "      <td>0</td>\n",
       "      <td>0</td>\n",
       "      <td>0</td>\n",
       "      <td>0</td>\n",
       "      <td>0</td>\n",
       "      <td>0</td>\n",
       "    </tr>\n",
       "    <tr>\n",
       "      <th>4</th>\n",
       "      <td>0</td>\n",
       "      <td>0.100000</td>\n",
       "      <td>0.517794</td>\n",
       "      <td>0.00</td>\n",
       "      <td>0.0</td>\n",
       "      <td>0.494734</td>\n",
       "      <td>0.781422</td>\n",
       "      <td>0.154361</td>\n",
       "      <td>0.303809</td>\n",
       "      <td>0.812646</td>\n",
       "      <td>...</td>\n",
       "      <td>0</td>\n",
       "      <td>0</td>\n",
       "      <td>0</td>\n",
       "      <td>0</td>\n",
       "      <td>0</td>\n",
       "      <td>0</td>\n",
       "      <td>0</td>\n",
       "      <td>0</td>\n",
       "      <td>0</td>\n",
       "      <td>0</td>\n",
       "    </tr>\n",
       "  </tbody>\n",
       "</table>\n",
       "<p>5 rows × 1777 columns</p>\n",
       "</div>"
      ],
      "text/plain": [
       "   Activity        D1        D2    D3   D4        D5        D6        D7  \\\n",
       "0         1  0.000000  0.497009  0.10  0.0  0.132956  0.678031  0.273166   \n",
       "1         1  0.366667  0.606291  0.05  0.0  0.111209  0.803455  0.106105   \n",
       "2         1  0.033300  0.480124  0.00  0.0  0.209791  0.610350  0.356453   \n",
       "3         1  0.000000  0.538825  0.00  0.5  0.196344  0.724230  0.235606   \n",
       "4         0  0.100000  0.517794  0.00  0.0  0.494734  0.781422  0.154361   \n",
       "\n",
       "         D8        D9  ...  D1767  D1768  D1769  D1770  D1771  D1772  D1773  \\\n",
       "0  0.585445  0.743663  ...      0      0      0      0      0      0      0   \n",
       "1  0.411754  0.836582  ...      1      1      1      1      0      1      0   \n",
       "2  0.517720  0.679051  ...      0      0      0      0      0      0      0   \n",
       "3  0.288764  0.805110  ...      0      0      0      0      0      0      0   \n",
       "4  0.303809  0.812646  ...      0      0      0      0      0      0      0   \n",
       "\n",
       "   D1774  D1775  D1776  \n",
       "0      0      0      0  \n",
       "1      0      1      0  \n",
       "2      0      0      0  \n",
       "3      0      0      0  \n",
       "4      0      0      0  \n",
       "\n",
       "[5 rows x 1777 columns]"
      ]
     },
     "execution_count": 22,
     "metadata": {},
     "output_type": "execute_result"
    }
   ],
   "source": [
    "#data = pd.read_csv(\"../input/bioresponse/train.csv\")\n",
    "data = pd.read_csv('data/_train_sem09.csv')\n",
    "data.head()"
   ]
  },
  {
   "cell_type": "markdown",
   "metadata": {},
   "source": [
    "Уменьшим кол-во признаков, так как их слишком много"
   ]
  },
  {
   "cell_type": "code",
   "execution_count": 23,
   "metadata": {},
   "outputs": [
    {
     "data": {
      "image/png": "[encoded data removed]",
      "text/plain": [
       "<Figure size 800x550 with 1 Axes>"
      ]
     },
     "metadata": {},
     "output_type": "display_data"
    }
   ],
   "source": [
    "pca = PCA().fit(data)\n",
    "plt.plot(np.cumsum(pca.explained_variance_ratio_))\n",
    "plt.xlabel('number of components')\n",
    "plt.ylabel('cumulative explained variance');"
   ]
  },
  {
   "cell_type": "markdown",
   "metadata": {},
   "source": [
    "750 нам будет достаточно для полнценного описания"
   ]
  },
  {
   "cell_type": "code",
   "execution_count": 24,
   "metadata": {},
   "outputs": [],
   "source": [
    "X = data.drop(['Activity'], axis=1)\n",
    "y = data['Activity']\n",
    "\n",
    "selector = SelectKBest(f_regression, k=750)\n",
    "selector.fit(X, y)\n",
    " \n",
    "X = selector.transform(X)"
   ]
  },
  {
   "cell_type": "markdown",
   "metadata": {},
   "source": [
    "---\n",
    "\n",
    "## <center> LogisticRegression\n",
    "\n",
    "Обучаем модели логистической регрессии. Подбираем гиперпараметры с помощью базовых и продвинутых методов оптимизации. Максимальное количество итераций не превышает 50."
   ]
  },
  {
   "cell_type": "code",
   "execution_count": 25,
   "metadata": {},
   "outputs": [],
   "source": [
    "X_train, X_test, y_train, y_test = train_test_split(X, y, stratify=y, random_state = 1, test_size = 0.2)"
   ]
  },
  {
   "cell_type": "markdown",
   "metadata": {},
   "source": [
    "### <center> GridSearchCV"
   ]
  },
  {
   "cell_type": "code",
   "execution_count": 26,
   "metadata": {},
   "outputs": [
    {
     "name": "stdout",
     "output_type": "stream",
     "text": [
      "CPU times: total: 1.03 s\n",
      "Wall time: 20.9 s\n",
      "accuracy на тестовом наборе: 0.77\n",
      "f1_score на тестовом наборе: 0.788\n",
      "Наилучшие значения гиперпараметров: {'C': 0.21000000000000002, 'penalty': 'l2', 'solver': 'lbfgs'}\n"
     ]
    },
    {
     "name": "stderr",
     "output_type": "stream",
     "text": [
      "c:\\Users\\SHOLFI\\AppData\\Local\\Programs\\Python\\Python312\\Lib\\site-packages\\sklearn\\model_selection\\_validation.py:547: FitFailedWarning: \n",
      "150 fits failed out of a total of 500.\n",
      "The score on these train-test partitions for these parameters will be set to nan.\n",
      "If these failures are not expected, you can try to debug them by setting error_score='raise'.\n",
      "\n",
      "Below are more details about the failures:\n",
      "--------------------------------------------------------------------------------\n",
      "42 fits failed with the following error:\n",
      "Traceback (most recent call last):\n",
      "  File \"c:\\Users\\SHOLFI\\AppData\\Local\\Programs\\Python\\Python312\\Lib\\site-packages\\sklearn\\model_selection\\_validation.py\", line 895, in _fit_and_score\n",
      "    estimator.fit(X_train, y_train, **fit_params)\n",
      "  File \"c:\\Users\\SHOLFI\\AppData\\Local\\Programs\\Python\\Python312\\Lib\\site-packages\\sklearn\\base.py\", line 1467, in wrapper\n",
      "    estimator._validate_params()\n",
      "  File \"c:\\Users\\SHOLFI\\AppData\\Local\\Programs\\Python\\Python312\\Lib\\site-packages\\sklearn\\base.py\", line 666, in _validate_params\n",
      "    validate_parameter_constraints(\n",
      "  File \"c:\\Users\\SHOLFI\\AppData\\Local\\Programs\\Python\\Python312\\Lib\\site-packages\\sklearn\\utils\\_param_validation.py\", line 95, in validate_parameter_constraints\n",
      "    raise InvalidParameterError(\n",
      "sklearn.utils._param_validation.InvalidParameterError: The 'penalty' parameter of LogisticRegression must be a str among {'l2', 'elasticnet', 'l1'} or None. Got 'none' instead.\n",
      "\n",
      "--------------------------------------------------------------------------------\n",
      "42 fits failed with the following error:\n",
      "Traceback (most recent call last):\n",
      "  File \"c:\\Users\\SHOLFI\\AppData\\Local\\Programs\\Python\\Python312\\Lib\\site-packages\\sklearn\\model_selection\\_validation.py\", line 895, in _fit_and_score\n",
      "    estimator.fit(X_train, y_train, **fit_params)\n",
      "  File \"c:\\Users\\SHOLFI\\AppData\\Local\\Programs\\Python\\Python312\\Lib\\site-packages\\sklearn\\base.py\", line 1467, in wrapper\n",
      "    estimator._validate_params()\n",
      "  File \"c:\\Users\\SHOLFI\\AppData\\Local\\Programs\\Python\\Python312\\Lib\\site-packages\\sklearn\\base.py\", line 666, in _validate_params\n",
      "    validate_parameter_constraints(\n",
      "  File \"c:\\Users\\SHOLFI\\AppData\\Local\\Programs\\Python\\Python312\\Lib\\site-packages\\sklearn\\utils\\_param_validation.py\", line 95, in validate_parameter_constraints\n",
      "    raise InvalidParameterError(\n",
      "sklearn.utils._param_validation.InvalidParameterError: The 'penalty' parameter of LogisticRegression must be a str among {'l2', 'l1', 'elasticnet'} or None. Got 'none' instead.\n",
      "\n",
      "--------------------------------------------------------------------------------\n",
      "40 fits failed with the following error:\n",
      "Traceback (most recent call last):\n",
      "  File \"c:\\Users\\SHOLFI\\AppData\\Local\\Programs\\Python\\Python312\\Lib\\site-packages\\sklearn\\model_selection\\_validation.py\", line 895, in _fit_and_score\n",
      "    estimator.fit(X_train, y_train, **fit_params)\n",
      "  File \"c:\\Users\\SHOLFI\\AppData\\Local\\Programs\\Python\\Python312\\Lib\\site-packages\\sklearn\\base.py\", line 1467, in wrapper\n",
      "    estimator._validate_params()\n",
      "  File \"c:\\Users\\SHOLFI\\AppData\\Local\\Programs\\Python\\Python312\\Lib\\site-packages\\sklearn\\base.py\", line 666, in _validate_params\n",
      "    validate_parameter_constraints(\n",
      "  File \"c:\\Users\\SHOLFI\\AppData\\Local\\Programs\\Python\\Python312\\Lib\\site-packages\\sklearn\\utils\\_param_validation.py\", line 95, in validate_parameter_constraints\n",
      "    raise InvalidParameterError(\n",
      "sklearn.utils._param_validation.InvalidParameterError: The 'penalty' parameter of LogisticRegression must be a str among {'elasticnet', 'l2', 'l1'} or None. Got 'none' instead.\n",
      "\n",
      "--------------------------------------------------------------------------------\n",
      "15 fits failed with the following error:\n",
      "Traceback (most recent call last):\n",
      "  File \"c:\\Users\\SHOLFI\\AppData\\Local\\Programs\\Python\\Python312\\Lib\\site-packages\\sklearn\\model_selection\\_validation.py\", line 895, in _fit_and_score\n",
      "    estimator.fit(X_train, y_train, **fit_params)\n",
      "  File \"c:\\Users\\SHOLFI\\AppData\\Local\\Programs\\Python\\Python312\\Lib\\site-packages\\sklearn\\base.py\", line 1467, in wrapper\n",
      "    estimator._validate_params()\n",
      "  File \"c:\\Users\\SHOLFI\\AppData\\Local\\Programs\\Python\\Python312\\Lib\\site-packages\\sklearn\\base.py\", line 666, in _validate_params\n",
      "    validate_parameter_constraints(\n",
      "  File \"c:\\Users\\SHOLFI\\AppData\\Local\\Programs\\Python\\Python312\\Lib\\site-packages\\sklearn\\utils\\_param_validation.py\", line 95, in validate_parameter_constraints\n",
      "    raise InvalidParameterError(\n",
      "sklearn.utils._param_validation.InvalidParameterError: The 'penalty' parameter of LogisticRegression must be a str among {'l1', 'elasticnet', 'l2'} or None. Got 'none' instead.\n",
      "\n",
      "--------------------------------------------------------------------------------\n",
      "11 fits failed with the following error:\n",
      "Traceback (most recent call last):\n",
      "  File \"c:\\Users\\SHOLFI\\AppData\\Local\\Programs\\Python\\Python312\\Lib\\site-packages\\sklearn\\model_selection\\_validation.py\", line 895, in _fit_and_score\n",
      "    estimator.fit(X_train, y_train, **fit_params)\n",
      "  File \"c:\\Users\\SHOLFI\\AppData\\Local\\Programs\\Python\\Python312\\Lib\\site-packages\\sklearn\\base.py\", line 1467, in wrapper\n",
      "    estimator._validate_params()\n",
      "  File \"c:\\Users\\SHOLFI\\AppData\\Local\\Programs\\Python\\Python312\\Lib\\site-packages\\sklearn\\base.py\", line 666, in _validate_params\n",
      "    validate_parameter_constraints(\n",
      "  File \"c:\\Users\\SHOLFI\\AppData\\Local\\Programs\\Python\\Python312\\Lib\\site-packages\\sklearn\\utils\\_param_validation.py\", line 95, in validate_parameter_constraints\n",
      "    raise InvalidParameterError(\n",
      "sklearn.utils._param_validation.InvalidParameterError: The 'penalty' parameter of LogisticRegression must be a str among {'l1', 'l2', 'elasticnet'} or None. Got 'none' instead.\n",
      "\n",
      "  warnings.warn(some_fits_failed_message, FitFailedWarning)\n",
      "c:\\Users\\SHOLFI\\AppData\\Local\\Programs\\Python\\Python312\\Lib\\site-packages\\sklearn\\model_selection\\_search.py:1051: UserWarning: One or more of the test scores are non-finite: [0.751      0.75133333 0.75133333        nan        nan        nan\n",
      " 0.76133333 0.761      0.76166667        nan        nan        nan\n",
      " 0.762      0.76133333 0.76133333        nan        nan        nan\n",
      " 0.75566667 0.757      0.75833333        nan        nan        nan\n",
      " 0.75433333 0.75333333 0.752             nan        nan        nan\n",
      " 0.75233333 0.75233333 0.75333333        nan        nan        nan\n",
      " 0.75066667 0.75166667 0.75366667        nan        nan        nan\n",
      " 0.74933333 0.75266667 0.75133333        nan        nan        nan\n",
      " 0.75033333 0.752      0.74933333        nan        nan        nan\n",
      " 0.74833333 0.75133333 0.75              nan        nan        nan\n",
      " 0.73566667 0.73566667 0.75066667 0.75166667 0.75433333 0.75533333\n",
      " 0.761      0.76166667 0.75833333 0.76033333 0.76       0.76033333\n",
      " 0.75866667 0.757      0.75733333 0.758      0.75733333 0.75866667\n",
      " 0.75233333 0.75566667 0.75666667 0.75633333 0.75266667 0.756\n",
      " 0.756      0.75566667 0.75366667 0.75466667 0.75466667 0.757\n",
      " 0.75166667 0.75366667 0.75433333 0.75466667 0.75166667 0.75266667\n",
      " 0.75533333 0.75466667 0.751      0.753     ]\n",
      "  warnings.warn(\n",
      "c:\\Users\\SHOLFI\\AppData\\Local\\Programs\\Python\\Python312\\Lib\\site-packages\\sklearn\\linear_model\\_logistic.py:469: ConvergenceWarning: lbfgs failed to converge (status=1):\n",
      "STOP: TOTAL NO. of ITERATIONS REACHED LIMIT.\n",
      "\n",
      "Increase the number of iterations (max_iter) or scale the data as shown in:\n",
      "    https://scikit-learn.org/stable/modules/preprocessing.html\n",
      "Please also refer to the documentation for alternative solver options:\n",
      "    https://scikit-learn.org/stable/modules/linear_model.html#logistic-regression\n",
      "  n_iter_i = _check_optimize_result(\n"
     ]
    }
   ],
   "source": [
    "param_grid = [\n",
    "              {'penalty': ['l2', 'none'] , # тип регуляризации\n",
    "              'solver': ['lbfgs', 'sag', 'newton-cg'], # алгоритм оптимизации\n",
    "               'C': np.arange(0.01, 1, 0.1)}, # уровень силы регурялизации\n",
    "              \n",
    "              {'penalty': ['l1', 'l2'] ,\n",
    "              'solver': ['liblinear', 'saga'],\n",
    "               'C': np.arange(0.01, 1, 0.1)}\n",
    "]\n",
    "grid_search_1 = GridSearchCV(\n",
    "    estimator=linear_model.LogisticRegression(random_state=42, max_iter=50), \n",
    "    param_grid=param_grid, \n",
    "    cv=5, \n",
    "    n_jobs = -1\n",
    ")  \n",
    "%time grid_search_1.fit(X_train, y_train) \n",
    "print(\"accuracy на тестовом наборе: {:.2f}\".format(grid_search_1.score(X_test, y_test)))\n",
    "y_test_pred = grid_search_1.predict(X_test)\n",
    "print('f1_score на тестовом наборе: {:.3f}'.format(metrics.f1_score(y_test, y_test_pred)))\n",
    "print(\"Наилучшие значения гиперпараметров: {}\".format(grid_search_1.best_params_))"
   ]
  },
  {
   "cell_type": "markdown",
   "metadata": {},
   "source": [
    "### <center> RandomizedSearchCV"
   ]
  },
  {
   "cell_type": "code",
   "execution_count": 27,
   "metadata": {},
   "outputs": [
    {
     "name": "stdout",
     "output_type": "stream",
     "text": [
      "CPU times: total: 641 ms\n",
      "Wall time: 11 s\n",
      "accuracy на тестовом наборе: 0.77\n",
      "f1_score на тестовом наборе: 0.788\n",
      "Наилучшие значения гиперпараметров: {'solver': 'lbfgs', 'penalty': 'l2', 'C': 0.21000000000000002}\n"
     ]
    },
    {
     "name": "stderr",
     "output_type": "stream",
     "text": [
      "c:\\Users\\SHOLFI\\AppData\\Local\\Programs\\Python\\Python312\\Lib\\site-packages\\sklearn\\model_selection\\_validation.py:547: FitFailedWarning: \n",
      "80 fits failed out of a total of 250.\n",
      "The score on these train-test partitions for these parameters will be set to nan.\n",
      "If these failures are not expected, you can try to debug them by setting error_score='raise'.\n",
      "\n",
      "Below are more details about the failures:\n",
      "--------------------------------------------------------------------------------\n",
      "36 fits failed with the following error:\n",
      "Traceback (most recent call last):\n",
      "  File \"c:\\Users\\SHOLFI\\AppData\\Local\\Programs\\Python\\Python312\\Lib\\site-packages\\sklearn\\model_selection\\_validation.py\", line 895, in _fit_and_score\n",
      "    estimator.fit(X_train, y_train, **fit_params)\n",
      "  File \"c:\\Users\\SHOLFI\\AppData\\Local\\Programs\\Python\\Python312\\Lib\\site-packages\\sklearn\\base.py\", line 1467, in wrapper\n",
      "    estimator._validate_params()\n",
      "  File \"c:\\Users\\SHOLFI\\AppData\\Local\\Programs\\Python\\Python312\\Lib\\site-packages\\sklearn\\base.py\", line 666, in _validate_params\n",
      "    validate_parameter_constraints(\n",
      "  File \"c:\\Users\\SHOLFI\\AppData\\Local\\Programs\\Python\\Python312\\Lib\\site-packages\\sklearn\\utils\\_param_validation.py\", line 95, in validate_parameter_constraints\n",
      "    raise InvalidParameterError(\n",
      "sklearn.utils._param_validation.InvalidParameterError: The 'penalty' parameter of LogisticRegression must be a str among {'elasticnet', 'l2', 'l1'} or None. Got 'none' instead.\n",
      "\n",
      "--------------------------------------------------------------------------------\n",
      "23 fits failed with the following error:\n",
      "Traceback (most recent call last):\n",
      "  File \"c:\\Users\\SHOLFI\\AppData\\Local\\Programs\\Python\\Python312\\Lib\\site-packages\\sklearn\\model_selection\\_validation.py\", line 895, in _fit_and_score\n",
      "    estimator.fit(X_train, y_train, **fit_params)\n",
      "  File \"c:\\Users\\SHOLFI\\AppData\\Local\\Programs\\Python\\Python312\\Lib\\site-packages\\sklearn\\base.py\", line 1467, in wrapper\n",
      "    estimator._validate_params()\n",
      "  File \"c:\\Users\\SHOLFI\\AppData\\Local\\Programs\\Python\\Python312\\Lib\\site-packages\\sklearn\\base.py\", line 666, in _validate_params\n",
      "    validate_parameter_constraints(\n",
      "  File \"c:\\Users\\SHOLFI\\AppData\\Local\\Programs\\Python\\Python312\\Lib\\site-packages\\sklearn\\utils\\_param_validation.py\", line 95, in validate_parameter_constraints\n",
      "    raise InvalidParameterError(\n",
      "sklearn.utils._param_validation.InvalidParameterError: The 'penalty' parameter of LogisticRegression must be a str among {'l2', 'l1', 'elasticnet'} or None. Got 'none' instead.\n",
      "\n",
      "--------------------------------------------------------------------------------\n",
      "16 fits failed with the following error:\n",
      "Traceback (most recent call last):\n",
      "  File \"c:\\Users\\SHOLFI\\AppData\\Local\\Programs\\Python\\Python312\\Lib\\site-packages\\sklearn\\model_selection\\_validation.py\", line 895, in _fit_and_score\n",
      "    estimator.fit(X_train, y_train, **fit_params)\n",
      "  File \"c:\\Users\\SHOLFI\\AppData\\Local\\Programs\\Python\\Python312\\Lib\\site-packages\\sklearn\\base.py\", line 1467, in wrapper\n",
      "    estimator._validate_params()\n",
      "  File \"c:\\Users\\SHOLFI\\AppData\\Local\\Programs\\Python\\Python312\\Lib\\site-packages\\sklearn\\base.py\", line 666, in _validate_params\n",
      "    validate_parameter_constraints(\n",
      "  File \"c:\\Users\\SHOLFI\\AppData\\Local\\Programs\\Python\\Python312\\Lib\\site-packages\\sklearn\\utils\\_param_validation.py\", line 95, in validate_parameter_constraints\n",
      "    raise InvalidParameterError(\n",
      "sklearn.utils._param_validation.InvalidParameterError: The 'penalty' parameter of LogisticRegression must be a str among {'l2', 'elasticnet', 'l1'} or None. Got 'none' instead.\n",
      "\n",
      "--------------------------------------------------------------------------------\n",
      "5 fits failed with the following error:\n",
      "Traceback (most recent call last):\n",
      "  File \"c:\\Users\\SHOLFI\\AppData\\Local\\Programs\\Python\\Python312\\Lib\\site-packages\\sklearn\\model_selection\\_validation.py\", line 895, in _fit_and_score\n",
      "    estimator.fit(X_train, y_train, **fit_params)\n",
      "  File \"c:\\Users\\SHOLFI\\AppData\\Local\\Programs\\Python\\Python312\\Lib\\site-packages\\sklearn\\base.py\", line 1467, in wrapper\n",
      "    estimator._validate_params()\n",
      "  File \"c:\\Users\\SHOLFI\\AppData\\Local\\Programs\\Python\\Python312\\Lib\\site-packages\\sklearn\\base.py\", line 666, in _validate_params\n",
      "    validate_parameter_constraints(\n",
      "  File \"c:\\Users\\SHOLFI\\AppData\\Local\\Programs\\Python\\Python312\\Lib\\site-packages\\sklearn\\utils\\_param_validation.py\", line 95, in validate_parameter_constraints\n",
      "    raise InvalidParameterError(\n",
      "sklearn.utils._param_validation.InvalidParameterError: The 'penalty' parameter of LogisticRegression must be a str among {'l1', 'elasticnet', 'l2'} or None. Got 'none' instead.\n",
      "\n",
      "  warnings.warn(some_fits_failed_message, FitFailedWarning)\n",
      "c:\\Users\\SHOLFI\\AppData\\Local\\Programs\\Python\\Python312\\Lib\\site-packages\\sklearn\\model_selection\\_search.py:1051: UserWarning: One or more of the test scores are non-finite: [       nan        nan 0.75133333 0.75133333        nan 0.75166667\n",
      " 0.757             nan 0.75666667 0.75       0.75366667 0.75733333\n",
      "        nan        nan 0.75333333 0.75166667 0.762      0.756\n",
      " 0.75466667 0.757      0.75266667 0.74833333 0.76166667 0.75133333\n",
      " 0.75466667        nan 0.73566667        nan 0.75366667 0.75633333\n",
      "        nan 0.75033333 0.761             nan 0.74933333 0.761\n",
      "        nan        nan 0.757             nan 0.752      0.76033333\n",
      " 0.75233333 0.751             nan 0.75466667        nan        nan\n",
      " 0.76133333 0.756     ]\n",
      "  warnings.warn(\n",
      "c:\\Users\\SHOLFI\\AppData\\Local\\Programs\\Python\\Python312\\Lib\\site-packages\\sklearn\\linear_model\\_logistic.py:469: ConvergenceWarning: lbfgs failed to converge (status=1):\n",
      "STOP: TOTAL NO. of ITERATIONS REACHED LIMIT.\n",
      "\n",
      "Increase the number of iterations (max_iter) or scale the data as shown in:\n",
      "    https://scikit-learn.org/stable/modules/preprocessing.html\n",
      "Please also refer to the documentation for alternative solver options:\n",
      "    https://scikit-learn.org/stable/modules/linear_model.html#logistic-regression\n",
      "  n_iter_i = _check_optimize_result(\n"
     ]
    }
   ],
   "source": [
    "param_distributions = [\n",
    "              {'penalty': ['l2', 'none'] , # тип регуляризации\n",
    "              'solver': ['lbfgs', 'sag', 'newton-cg'], # алгоритм оптимизации\n",
    "               'C': np.arange(0.01, 1, 0.1)}, # уровень силы регурялизации\n",
    "              \n",
    "              {'penalty': ['l1', 'l2'] ,\n",
    "              'solver': ['liblinear', 'saga'],\n",
    "               'C': np.arange(0.01, 1, 0.1)}\n",
    "]\n",
    "            \n",
    "random_search = RandomizedSearchCV(\n",
    "    estimator=linear_model.LogisticRegression(random_state=42, max_iter=50), \n",
    "    param_distributions=param_distributions, \n",
    "    cv=5, \n",
    "    n_iter = 50, \n",
    "    n_jobs = -1\n",
    ")  \n",
    "%time random_search.fit(X_train, y_train) \n",
    "print(\"accuracy на тестовом наборе: {:.2f}\".format(random_search.score(X_test, y_test)))\n",
    "y_test_pred = random_search.predict(X_test)\n",
    "print('f1_score на тестовом наборе: {:.3f}'.format(metrics.f1_score(y_test, y_test_pred)))\n",
    "print(\"Наилучшие значения гиперпараметров: {}\".format(random_search.best_params_))"
   ]
  },
  {
   "cell_type": "markdown",
   "metadata": {},
   "source": [
    "### <center> Hyperopt"
   ]
  },
  {
   "cell_type": "code",
   "execution_count": 28,
   "metadata": {},
   "outputs": [],
   "source": [
    "# зададим пространство поиска гиперпараметров\n",
    "pen = ['l1', 'l2']\n",
    "sol = ['liblinear', 'saga']\n",
    "space={'penalty': hp.choice('penalty', ['l1', 'l2']), # тип регуляризации\n",
    "       'solver': hp.choice('solver', ['liblinear', 'saga']), # алгоритм оптимизации\n",
    "       'C': hp.uniform('C', low=0.01, high=1) # уровень силы регурялизации\n",
    "      }\n",
    "\n",
    "# зафксируем random_state\n",
    "random_state = 42\n",
    "def hyperopt_lr(params, cv=5, X=X_train, y=y_train, random_state=random_state):\n",
    "    # функция получает комбинацию гиперпараметров в \"params\"\n",
    "    params = {'penalty': params['penalty'], \n",
    "              'solver': params['solver'], \n",
    "              'C': float(params['C'])\n",
    "              }\n",
    "  \n",
    "    # используем эту комбинацию для построения модели\n",
    "    model = linear_model.LogisticRegression(**params, random_state=random_state)\n",
    "\n",
    "    # обучаем модель\n",
    "    model.fit(X, y)\n",
    "    #score = metrics.f1_score(y, model.predict(X))\n",
    "    \n",
    "    # обучать модель можно также с помощью кросс-валидации\n",
    "    # применим  cross validation с тем же количеством фолдов\n",
    "    score = cross_val_score(model, X, y, cv=cv, scoring=\"f1\", n_jobs=-1).mean()\n",
    "\n",
    "    # метрику необходимо минимизировать, поэтому ставим знак минус\n",
    "    return -score"
   ]
  },
  {
   "cell_type": "code",
   "execution_count": 29,
   "metadata": {},
   "outputs": [
    {
     "name": "stdout",
     "output_type": "stream",
     "text": [
      "  2%|▏         | 1/50 [00:00<00:17,  2.74trial/s, best loss: -0.7767986703881459]"
     ]
    },
    {
     "name": "stderr",
     "output_type": "stream",
     "text": [
      "c:\\Users\\SHOLFI\\AppData\\Local\\Programs\\Python\\Python312\\Lib\\site-packages\\sklearn\\linear_model\\_sag.py:350: ConvergenceWarning: The max_iter was reached which means the coef_ did not converge\n",
      "  warnings.warn(\n",
      "\n"
     ]
    },
    {
     "name": "stdout",
     "output_type": "stream",
     "text": [
      "  6%|▌         | 3/50 [00:04<01:02,  1.33s/trial, best loss: -0.7798036015647992]"
     ]
    },
    {
     "name": "stderr",
     "output_type": "stream",
     "text": [
      "c:\\Users\\SHOLFI\\AppData\\Local\\Programs\\Python\\Python312\\Lib\\site-packages\\sklearn\\linear_model\\_sag.py:350: ConvergenceWarning: The max_iter was reached which means the coef_ did not converge\n",
      "  warnings.warn(\n",
      "\n"
     ]
    },
    {
     "name": "stdout",
     "output_type": "stream",
     "text": [
      " 10%|█         | 5/50 [00:07<01:05,  1.46s/trial, best loss: -0.7843994792274138]"
     ]
    },
    {
     "name": "stderr",
     "output_type": "stream",
     "text": [
      "c:\\Users\\SHOLFI\\AppData\\Local\\Programs\\Python\\Python312\\Lib\\site-packages\\sklearn\\linear_model\\_sag.py:350: ConvergenceWarning: The max_iter was reached which means the coef_ did not converge\n",
      "  warnings.warn(\n",
      "\n"
     ]
    },
    {
     "name": "stdout",
     "output_type": "stream",
     "text": [
      " 12%|█▏        | 6/50 [00:10<01:20,  1.83s/trial, best loss: -0.7843994792274138]"
     ]
    },
    {
     "name": "stderr",
     "output_type": "stream",
     "text": [
      "c:\\Users\\SHOLFI\\AppData\\Local\\Programs\\Python\\Python312\\Lib\\site-packages\\sklearn\\linear_model\\_sag.py:350: ConvergenceWarning: The max_iter was reached which means the coef_ did not converge\n",
      "  warnings.warn(\n",
      "\n"
     ]
    },
    {
     "name": "stdout",
     "output_type": "stream",
     "text": [
      " 18%|█▊        | 9/50 [00:13<00:50,  1.22s/trial, best loss: -0.7843994792274138]"
     ]
    },
    {
     "name": "stderr",
     "output_type": "stream",
     "text": [
      "c:\\Users\\SHOLFI\\AppData\\Local\\Programs\\Python\\Python312\\Lib\\site-packages\\sklearn\\linear_model\\_sag.py:350: ConvergenceWarning: The max_iter was reached which means the coef_ did not converge\n",
      "  warnings.warn(\n",
      "\n"
     ]
    },
    {
     "name": "stdout",
     "output_type": "stream",
     "text": [
      " 22%|██▏       | 11/50 [00:17<00:54,  1.39s/trial, best loss: -0.7843994792274138]"
     ]
    },
    {
     "name": "stderr",
     "output_type": "stream",
     "text": [
      "c:\\Users\\SHOLFI\\AppData\\Local\\Programs\\Python\\Python312\\Lib\\site-packages\\sklearn\\linear_model\\_sag.py:350: ConvergenceWarning: The max_iter was reached which means the coef_ did not converge\n",
      "  warnings.warn(\n",
      "\n"
     ]
    },
    {
     "name": "stdout",
     "output_type": "stream",
     "text": [
      " 26%|██▌       | 13/50 [00:20<00:51,  1.40s/trial, best loss: -0.7843994792274138]"
     ]
    },
    {
     "name": "stderr",
     "output_type": "stream",
     "text": [
      "c:\\Users\\SHOLFI\\AppData\\Local\\Programs\\Python\\Python312\\Lib\\site-packages\\sklearn\\linear_model\\_sag.py:350: ConvergenceWarning: The max_iter was reached which means the coef_ did not converge\n",
      "  warnings.warn(\n",
      "\n"
     ]
    },
    {
     "name": "stdout",
     "output_type": "stream",
     "text": [
      " 28%|██▊       | 14/50 [00:24<01:12,  2.01s/trial, best loss: -0.7843994792274138]"
     ]
    },
    {
     "name": "stderr",
     "output_type": "stream",
     "text": [
      "c:\\Users\\SHOLFI\\AppData\\Local\\Programs\\Python\\Python312\\Lib\\site-packages\\sklearn\\linear_model\\_sag.py:350: ConvergenceWarning: The max_iter was reached which means the coef_ did not converge\n",
      "  warnings.warn(\n",
      "\n"
     ]
    },
    {
     "name": "stdout",
     "output_type": "stream",
     "text": [
      " 32%|███▏      | 16/50 [00:28<01:03,  1.86s/trial, best loss: -0.7843994792274138]"
     ]
    },
    {
     "name": "stderr",
     "output_type": "stream",
     "text": [
      "c:\\Users\\SHOLFI\\AppData\\Local\\Programs\\Python\\Python312\\Lib\\site-packages\\sklearn\\linear_model\\_sag.py:350: ConvergenceWarning: The max_iter was reached which means the coef_ did not converge\n",
      "  warnings.warn(\n",
      "\n"
     ]
    },
    {
     "name": "stdout",
     "output_type": "stream",
     "text": [
      " 34%|███▍      | 17/50 [00:30<01:07,  2.06s/trial, best loss: -0.7843994792274138]"
     ]
    },
    {
     "name": "stderr",
     "output_type": "stream",
     "text": [
      "c:\\Users\\SHOLFI\\AppData\\Local\\Programs\\Python\\Python312\\Lib\\site-packages\\sklearn\\linear_model\\_sag.py:350: ConvergenceWarning: The max_iter was reached which means the coef_ did not converge\n",
      "  warnings.warn(\n",
      "\n"
     ]
    },
    {
     "name": "stdout",
     "output_type": "stream",
     "text": [
      " 36%|███▌      | 18/50 [00:34<01:17,  2.43s/trial, best loss: -0.7843994792274138]"
     ]
    },
    {
     "name": "stderr",
     "output_type": "stream",
     "text": [
      "c:\\Users\\SHOLFI\\AppData\\Local\\Programs\\Python\\Python312\\Lib\\site-packages\\sklearn\\linear_model\\_sag.py:350: ConvergenceWarning: The max_iter was reached which means the coef_ did not converge\n",
      "  warnings.warn(\n",
      "\n"
     ]
    },
    {
     "name": "stdout",
     "output_type": "stream",
     "text": [
      " 44%|████▍     | 22/50 [00:38<00:32,  1.18s/trial, best loss: -0.7843994792274138]"
     ]
    },
    {
     "name": "stderr",
     "output_type": "stream",
     "text": [
      "c:\\Users\\SHOLFI\\AppData\\Local\\Programs\\Python\\Python312\\Lib\\site-packages\\sklearn\\linear_model\\_sag.py:350: ConvergenceWarning: The max_iter was reached which means the coef_ did not converge\n",
      "  warnings.warn(\n",
      "\n"
     ]
    },
    {
     "name": "stdout",
     "output_type": "stream",
     "text": [
      " 50%|█████     | 25/50 [00:41<00:23,  1.07trial/s, best loss: -0.7845917208966752]"
     ]
    },
    {
     "name": "stderr",
     "output_type": "stream",
     "text": [
      "c:\\Users\\SHOLFI\\AppData\\Local\\Programs\\Python\\Python312\\Lib\\site-packages\\sklearn\\linear_model\\_sag.py:350: ConvergenceWarning: The max_iter was reached which means the coef_ did not converge\n",
      "  warnings.warn(\n",
      "\n"
     ]
    },
    {
     "name": "stdout",
     "output_type": "stream",
     "text": [
      " 52%|█████▏    | 26/50 [00:44<00:36,  1.51s/trial, best loss: -0.7845917208966752]"
     ]
    },
    {
     "name": "stderr",
     "output_type": "stream",
     "text": [
      "c:\\Users\\SHOLFI\\AppData\\Local\\Programs\\Python\\Python312\\Lib\\site-packages\\sklearn\\linear_model\\_sag.py:350: ConvergenceWarning: The max_iter was reached which means the coef_ did not converge\n",
      "  warnings.warn(\n",
      "\n"
     ]
    },
    {
     "name": "stdout",
     "output_type": "stream",
     "text": [
      " 58%|█████▊    | 29/50 [00:47<00:22,  1.08s/trial, best loss: -0.7845917208966752]"
     ]
    },
    {
     "name": "stderr",
     "output_type": "stream",
     "text": [
      "c:\\Users\\SHOLFI\\AppData\\Local\\Programs\\Python\\Python312\\Lib\\site-packages\\sklearn\\linear_model\\_sag.py:350: ConvergenceWarning: The max_iter was reached which means the coef_ did not converge\n",
      "  warnings.warn(\n",
      "\n"
     ]
    },
    {
     "name": "stdout",
     "output_type": "stream",
     "text": [
      " 60%|██████    | 30/50 [00:50<00:30,  1.54s/trial, best loss: -0.7849023547026058]"
     ]
    },
    {
     "name": "stderr",
     "output_type": "stream",
     "text": [
      "c:\\Users\\SHOLFI\\AppData\\Local\\Programs\\Python\\Python312\\Lib\\site-packages\\sklearn\\linear_model\\_sag.py:350: ConvergenceWarning: The max_iter was reached which means the coef_ did not converge\n",
      "  warnings.warn(\n",
      "\n"
     ]
    },
    {
     "name": "stdout",
     "output_type": "stream",
     "text": [
      " 62%|██████▏   | 31/50 [00:53<00:35,  1.86s/trial, best loss: -0.7849023547026058]"
     ]
    },
    {
     "name": "stderr",
     "output_type": "stream",
     "text": [
      "c:\\Users\\SHOLFI\\AppData\\Local\\Programs\\Python\\Python312\\Lib\\site-packages\\sklearn\\linear_model\\_sag.py:350: ConvergenceWarning: The max_iter was reached which means the coef_ did not converge\n",
      "  warnings.warn(\n",
      "\n"
     ]
    },
    {
     "name": "stdout",
     "output_type": "stream",
     "text": [
      " 64%|██████▍   | 32/50 [00:55<00:37,  2.10s/trial, best loss: -0.7849023547026058]"
     ]
    },
    {
     "name": "stderr",
     "output_type": "stream",
     "text": [
      "c:\\Users\\SHOLFI\\AppData\\Local\\Programs\\Python\\Python312\\Lib\\site-packages\\sklearn\\linear_model\\_sag.py:350: ConvergenceWarning: The max_iter was reached which means the coef_ did not converge\n",
      "  warnings.warn(\n",
      "\n"
     ]
    },
    {
     "name": "stdout",
     "output_type": "stream",
     "text": [
      " 66%|██████▌   | 33/50 [00:58<00:38,  2.26s/trial, best loss: -0.7849023547026058]"
     ]
    },
    {
     "name": "stderr",
     "output_type": "stream",
     "text": [
      "c:\\Users\\SHOLFI\\AppData\\Local\\Programs\\Python\\Python312\\Lib\\site-packages\\sklearn\\linear_model\\_sag.py:350: ConvergenceWarning: The max_iter was reached which means the coef_ did not converge\n",
      "  warnings.warn(\n",
      "\n"
     ]
    },
    {
     "name": "stdout",
     "output_type": "stream",
     "text": [
      " 68%|██████▊   | 34/50 [01:01<00:37,  2.37s/trial, best loss: -0.7849023547026058]"
     ]
    },
    {
     "name": "stderr",
     "output_type": "stream",
     "text": [
      "c:\\Users\\SHOLFI\\AppData\\Local\\Programs\\Python\\Python312\\Lib\\site-packages\\sklearn\\linear_model\\_sag.py:350: ConvergenceWarning: The max_iter was reached which means the coef_ did not converge\n",
      "  warnings.warn(\n",
      "\n"
     ]
    },
    {
     "name": "stdout",
     "output_type": "stream",
     "text": [
      " 70%|███████   | 35/50 [01:03<00:36,  2.42s/trial, best loss: -0.7849023547026058]"
     ]
    },
    {
     "name": "stderr",
     "output_type": "stream",
     "text": [
      "c:\\Users\\SHOLFI\\AppData\\Local\\Programs\\Python\\Python312\\Lib\\site-packages\\sklearn\\linear_model\\_sag.py:350: ConvergenceWarning: The max_iter was reached which means the coef_ did not converge\n",
      "  warnings.warn(\n",
      "\n"
     ]
    },
    {
     "name": "stdout",
     "output_type": "stream",
     "text": [
      " 72%|███████▏  | 36/50 [01:06<00:34,  2.46s/trial, best loss: -0.7849023547026058]"
     ]
    },
    {
     "name": "stderr",
     "output_type": "stream",
     "text": [
      "c:\\Users\\SHOLFI\\AppData\\Local\\Programs\\Python\\Python312\\Lib\\site-packages\\sklearn\\linear_model\\_sag.py:350: ConvergenceWarning: The max_iter was reached which means the coef_ did not converge\n",
      "  warnings.warn(\n",
      "\n"
     ]
    },
    {
     "name": "stdout",
     "output_type": "stream",
     "text": [
      " 74%|███████▍  | 37/50 [01:08<00:33,  2.56s/trial, best loss: -0.7849023547026058]"
     ]
    },
    {
     "name": "stderr",
     "output_type": "stream",
     "text": [
      "c:\\Users\\SHOLFI\\AppData\\Local\\Programs\\Python\\Python312\\Lib\\site-packages\\sklearn\\linear_model\\_sag.py:350: ConvergenceWarning: The max_iter was reached which means the coef_ did not converge\n",
      "  warnings.warn(\n",
      "\n"
     ]
    },
    {
     "name": "stdout",
     "output_type": "stream",
     "text": [
      " 78%|███████▊  | 39/50 [01:14<00:28,  2.57s/trial, best loss: -0.7849023547026058]"
     ]
    },
    {
     "name": "stderr",
     "output_type": "stream",
     "text": [
      "c:\\Users\\SHOLFI\\AppData\\Local\\Programs\\Python\\Python312\\Lib\\site-packages\\sklearn\\linear_model\\_sag.py:350: ConvergenceWarning: The max_iter was reached which means the coef_ did not converge\n",
      "  warnings.warn(\n",
      "\n"
     ]
    },
    {
     "name": "stdout",
     "output_type": "stream",
     "text": [
      " 80%|████████  | 40/50 [01:16<00:25,  2.59s/trial, best loss: -0.7858339693659235]"
     ]
    },
    {
     "name": "stderr",
     "output_type": "stream",
     "text": [
      "c:\\Users\\SHOLFI\\AppData\\Local\\Programs\\Python\\Python312\\Lib\\site-packages\\sklearn\\linear_model\\_sag.py:350: ConvergenceWarning: The max_iter was reached which means the coef_ did not converge\n",
      "  warnings.warn(\n",
      "\n"
     ]
    },
    {
     "name": "stdout",
     "output_type": "stream",
     "text": [
      " 82%|████████▏ | 41/50 [01:19<00:23,  2.58s/trial, best loss: -0.7858339693659235]"
     ]
    },
    {
     "name": "stderr",
     "output_type": "stream",
     "text": [
      "c:\\Users\\SHOLFI\\AppData\\Local\\Programs\\Python\\Python312\\Lib\\site-packages\\sklearn\\linear_model\\_sag.py:350: ConvergenceWarning: The max_iter was reached which means the coef_ did not converge\n",
      "  warnings.warn(\n",
      "\n"
     ]
    },
    {
     "name": "stdout",
     "output_type": "stream",
     "text": [
      " 84%|████████▍ | 42/50 [01:21<00:20,  2.60s/trial, best loss: -0.7858339693659235]"
     ]
    },
    {
     "name": "stderr",
     "output_type": "stream",
     "text": [
      "c:\\Users\\SHOLFI\\AppData\\Local\\Programs\\Python\\Python312\\Lib\\site-packages\\sklearn\\linear_model\\_sag.py:350: ConvergenceWarning: The max_iter was reached which means the coef_ did not converge\n",
      "  warnings.warn(\n",
      "\n"
     ]
    },
    {
     "name": "stdout",
     "output_type": "stream",
     "text": [
      " 86%|████████▌ | 43/50 [01:24<00:18,  2.64s/trial, best loss: -0.7858339693659235]"
     ]
    },
    {
     "name": "stderr",
     "output_type": "stream",
     "text": [
      "c:\\Users\\SHOLFI\\AppData\\Local\\Programs\\Python\\Python312\\Lib\\site-packages\\sklearn\\linear_model\\_sag.py:350: ConvergenceWarning: The max_iter was reached which means the coef_ did not converge\n",
      "  warnings.warn(\n",
      "\n"
     ]
    },
    {
     "name": "stdout",
     "output_type": "stream",
     "text": [
      " 88%|████████▊ | 44/50 [01:27<00:15,  2.62s/trial, best loss: -0.7858339693659235]"
     ]
    },
    {
     "name": "stderr",
     "output_type": "stream",
     "text": [
      "c:\\Users\\SHOLFI\\AppData\\Local\\Programs\\Python\\Python312\\Lib\\site-packages\\sklearn\\linear_model\\_sag.py:350: ConvergenceWarning: The max_iter was reached which means the coef_ did not converge\n",
      "  warnings.warn(\n",
      "\n"
     ]
    },
    {
     "name": "stdout",
     "output_type": "stream",
     "text": [
      " 90%|█████████ | 45/50 [01:30<00:14,  2.84s/trial, best loss: -0.7858339693659235]"
     ]
    },
    {
     "name": "stderr",
     "output_type": "stream",
     "text": [
      "c:\\Users\\SHOLFI\\AppData\\Local\\Programs\\Python\\Python312\\Lib\\site-packages\\sklearn\\linear_model\\_sag.py:350: ConvergenceWarning: The max_iter was reached which means the coef_ did not converge\n",
      "  warnings.warn(\n",
      "\n"
     ]
    },
    {
     "name": "stdout",
     "output_type": "stream",
     "text": [
      " 92%|█████████▏| 46/50 [01:33<00:11,  2.77s/trial, best loss: -0.7858339693659235]"
     ]
    },
    {
     "name": "stderr",
     "output_type": "stream",
     "text": [
      "c:\\Users\\SHOLFI\\AppData\\Local\\Programs\\Python\\Python312\\Lib\\site-packages\\sklearn\\linear_model\\_sag.py:350: ConvergenceWarning: The max_iter was reached which means the coef_ did not converge\n",
      "  warnings.warn(\n",
      "\n"
     ]
    },
    {
     "name": "stdout",
     "output_type": "stream",
     "text": [
      " 94%|█████████▍| 47/50 [01:36<00:08,  2.97s/trial, best loss: -0.7858339693659235]"
     ]
    },
    {
     "name": "stderr",
     "output_type": "stream",
     "text": [
      "c:\\Users\\SHOLFI\\AppData\\Local\\Programs\\Python\\Python312\\Lib\\site-packages\\sklearn\\linear_model\\_sag.py:350: ConvergenceWarning: The max_iter was reached which means the coef_ did not converge\n",
      "  warnings.warn(\n",
      "\n"
     ]
    },
    {
     "name": "stdout",
     "output_type": "stream",
     "text": [
      " 96%|█████████▌| 48/50 [01:39<00:05,  2.84s/trial, best loss: -0.7858339693659235]"
     ]
    },
    {
     "name": "stderr",
     "output_type": "stream",
     "text": [
      "c:\\Users\\SHOLFI\\AppData\\Local\\Programs\\Python\\Python312\\Lib\\site-packages\\sklearn\\linear_model\\_sag.py:350: ConvergenceWarning: The max_iter was reached which means the coef_ did not converge\n",
      "  warnings.warn(\n",
      "\n"
     ]
    },
    {
     "name": "stdout",
     "output_type": "stream",
     "text": [
      " 98%|█████████▊| 49/50 [01:42<00:03,  3.04s/trial, best loss: -0.7858339693659235]"
     ]
    },
    {
     "name": "stderr",
     "output_type": "stream",
     "text": [
      "c:\\Users\\SHOLFI\\AppData\\Local\\Programs\\Python\\Python312\\Lib\\site-packages\\sklearn\\linear_model\\_sag.py:350: ConvergenceWarning: The max_iter was reached which means the coef_ did not converge\n",
      "  warnings.warn(\n",
      "\n"
     ]
    },
    {
     "name": "stdout",
     "output_type": "stream",
     "text": [
      "100%|██████████| 50/50 [01:45<00:00,  2.11s/trial, best loss: -0.7858339693659235]\n",
      "Наилучшие значения гиперпараметров {'C': 0.07807657638745155, 'penalty': 1, 'solver': 1}\n",
      "CPU times: total: 51.2 s\n",
      "Wall time: 1min 45s\n"
     ]
    }
   ],
   "source": [
    "%%time\n",
    "# начинаем подбор гиперпараметров\n",
    "\n",
    "trials = Trials() # используется для логирования результатов\n",
    "\n",
    "best=fmin(hyperopt_lr, # наша функция \n",
    "          space=space, # пространство гиперпараметров\n",
    "          algo=tpe.suggest, # алгоритм оптимизации, установлен по умолчанию, задавать необязательно\n",
    "          max_evals=50, # максимальное количество итераций\n",
    "          trials=trials, # логирование результатов\n",
    "          rstate=np.random.default_rng(random_state)# фиксируем для повторяемости результата\n",
    "         )\n",
    "print(\"Наилучшие значения гиперпараметров {}\".format(best))"
   ]
  },
  {
   "cell_type": "code",
   "execution_count": 30,
   "metadata": {},
   "outputs": [
    {
     "name": "stdout",
     "output_type": "stream",
     "text": [
      "f1_score на обучающем наборе: 0.82\n",
      "accuracy на тестовом наборе: 0.76\n",
      "f1_score на тестовом наборе: 0.781\n"
     ]
    },
    {
     "name": "stderr",
     "output_type": "stream",
     "text": [
      "c:\\Users\\SHOLFI\\AppData\\Local\\Programs\\Python\\Python312\\Lib\\site-packages\\sklearn\\linear_model\\_sag.py:350: ConvergenceWarning: The max_iter was reached which means the coef_ did not converge\n",
      "  warnings.warn(\n"
     ]
    }
   ],
   "source": [
    "# рассчитаем точность для тестовой выборки\n",
    "model = linear_model.LogisticRegression(\n",
    "    random_state=random_state, \n",
    "    penalty=pen[best['penalty']],\n",
    "    solver=sol[best['solver']],\n",
    "    C=float(best['C'])\n",
    ")\n",
    "model.fit(X_train, y_train)\n",
    "y_train_pred = model.predict(X_train)\n",
    "print('f1_score на обучающем наборе: {:.2f}'.format(metrics.f1_score(y_train, y_train_pred)))\n",
    "print(\"accuracy на тестовом наборе: {:.2f}\".format(model.score(X_test, y_test)))\n",
    "y_test_pred = model.predict(X_test)\n",
    "print('f1_score на тестовом наборе: {:.3f}'.format(metrics.f1_score(y_test, y_test_pred)))"
   ]
  },
  {
   "cell_type": "markdown",
   "metadata": {},
   "source": [
    "## <center> Optuna"
   ]
  },
  {
   "cell_type": "markdown",
   "metadata": {},
   "source": [
    "Настроим оптимизацию гиперпараметров для алгоритма логистической регрессии."
   ]
  },
  {
   "cell_type": "code",
   "execution_count": 31,
   "metadata": {},
   "outputs": [],
   "source": [
    "def optuna_lr(trial):\n",
    "  # задаем пространства поиска гиперпараметров\n",
    "  penalty = trial.suggest_categorical('penalty', ['l1', 'l2'])\n",
    "  solver = trial.suggest_categorical('solver', ['liblinear', 'saga'])\n",
    "  C = trial.suggest_float('C', low=0.01, high=1)\n",
    "\n",
    "  # создаем модель\n",
    "  model = linear_model.LogisticRegression(penalty=penalty,\n",
    "                                          solver=solver,\n",
    "                                          C=C,\n",
    "                                          random_state=random_state)\n",
    "  # обучаем модель\n",
    "  model.fit(X_train, y_train)\n",
    "  #score = metrics.f1_score(y_train, model.predict(X_train))\n",
    "  \n",
    "  score = cross_val_score(model, X, y, cv=5, scoring=\"f1\", n_jobs=-1).mean()\n",
    "\n",
    "  return score\n",
    "  \n",
    "  "
   ]
  },
  {
   "cell_type": "code",
   "execution_count": 32,
   "metadata": {},
   "outputs": [
    {
     "name": "stderr",
     "output_type": "stream",
     "text": [
      "[I 2024-12-15 01:43:00,245] A new study created in memory with name: LogisticRegression\n",
      "c:\\Users\\SHOLFI\\AppData\\Local\\Programs\\Python\\Python312\\Lib\\site-packages\\sklearn\\linear_model\\_sag.py:350: ConvergenceWarning: The max_iter was reached which means the coef_ did not converge\n",
      "  warnings.warn(\n",
      "[I 2024-12-15 01:43:04,111] Trial 0 finished with value: 0.782022066225299 and parameters: {'penalty': 'l1', 'solver': 'saga', 'C': 0.6107708230126454}. Best is trial 0 with value: 0.782022066225299.\n",
      "c:\\Users\\SHOLFI\\AppData\\Local\\Programs\\Python\\Python312\\Lib\\site-packages\\sklearn\\linear_model\\_sag.py:350: ConvergenceWarning: The max_iter was reached which means the coef_ did not converge\n",
      "  warnings.warn(\n",
      "[I 2024-12-15 01:43:07,155] Trial 1 finished with value: 0.7872624336194823 and parameters: {'penalty': 'l2', 'solver': 'saga', 'C': 0.03711961559831381}. Best is trial 1 with value: 0.7872624336194823.\n",
      "c:\\Users\\SHOLFI\\AppData\\Local\\Programs\\Python\\Python312\\Lib\\site-packages\\sklearn\\linear_model\\_sag.py:350: ConvergenceWarning: The max_iter was reached which means the coef_ did not converge\n",
      "  warnings.warn(\n",
      "[I 2024-12-15 01:43:10,172] Trial 2 finished with value: 0.7783558732751737 and parameters: {'penalty': 'l2', 'solver': 'saga', 'C': 0.6285970744867515}. Best is trial 1 with value: 0.7872624336194823.\n",
      "c:\\Users\\SHOLFI\\AppData\\Local\\Programs\\Python\\Python312\\Lib\\site-packages\\sklearn\\linear_model\\_sag.py:350: ConvergenceWarning: The max_iter was reached which means the coef_ did not converge\n",
      "  warnings.warn(\n",
      "[I 2024-12-15 01:43:14,023] Trial 3 finished with value: 0.7840991858260031 and parameters: {'penalty': 'l1', 'solver': 'saga', 'C': 0.4749164404987482}. Best is trial 1 with value: 0.7872624336194823.\n",
      "[I 2024-12-15 01:43:14,512] Trial 4 finished with value: 0.777677406284837 and parameters: {'penalty': 'l2', 'solver': 'liblinear', 'C': 0.9431545722758891}. Best is trial 1 with value: 0.7872624336194823.\n",
      "[I 2024-12-15 01:43:15,090] Trial 5 finished with value: 0.7799347423389545 and parameters: {'penalty': 'l1', 'solver': 'liblinear', 'C': 0.7532060474332503}. Best is trial 1 with value: 0.7872624336194823.\n",
      "[I 2024-12-15 01:43:15,582] Trial 6 finished with value: 0.7777848958063007 and parameters: {'penalty': 'l2', 'solver': 'liblinear', 'C': 0.8211792179704543}. Best is trial 1 with value: 0.7872624336194823.\n",
      "c:\\Users\\SHOLFI\\AppData\\Local\\Programs\\Python\\Python312\\Lib\\site-packages\\sklearn\\linear_model\\_sag.py:350: ConvergenceWarning: The max_iter was reached which means the coef_ did not converge\n",
      "  warnings.warn(\n",
      "[I 2024-12-15 01:43:18,572] Trial 7 finished with value: 0.778358741635753 and parameters: {'penalty': 'l2', 'solver': 'saga', 'C': 0.6693286553751373}. Best is trial 1 with value: 0.7872624336194823.\n",
      "c:\\Users\\SHOLFI\\AppData\\Local\\Programs\\Python\\Python312\\Lib\\site-packages\\sklearn\\linear_model\\_sag.py:350: ConvergenceWarning: The max_iter was reached which means the coef_ did not converge\n",
      "  warnings.warn(\n",
      "[I 2024-12-15 01:43:21,489] Trial 8 finished with value: 0.7858778182189452 and parameters: {'penalty': 'l2', 'solver': 'saga', 'C': 0.10705313812979624}. Best is trial 1 with value: 0.7872624336194823.\n",
      "[I 2024-12-15 01:43:22,017] Trial 9 finished with value: 0.7797731916789074 and parameters: {'penalty': 'l1', 'solver': 'liblinear', 'C': 0.6066239138292066}. Best is trial 1 with value: 0.7872624336194823.\n",
      "c:\\Users\\SHOLFI\\AppData\\Local\\Programs\\Python\\Python312\\Lib\\site-packages\\sklearn\\linear_model\\_sag.py:350: ConvergenceWarning: The max_iter was reached which means the coef_ did not converge\n",
      "  warnings.warn(\n",
      "[I 2024-12-15 01:43:24,931] Trial 10 finished with value: 0.7881376026232549 and parameters: {'penalty': 'l2', 'solver': 'saga', 'C': 0.023497971398092454}. Best is trial 10 with value: 0.7881376026232549.\n",
      "c:\\Users\\SHOLFI\\AppData\\Local\\Programs\\Python\\Python312\\Lib\\site-packages\\sklearn\\linear_model\\_sag.py:350: ConvergenceWarning: The max_iter was reached which means the coef_ did not converge\n",
      "  warnings.warn(\n",
      "[I 2024-12-15 01:43:27,823] Trial 11 finished with value: 0.7878758811433377 and parameters: {'penalty': 'l2', 'solver': 'saga', 'C': 0.025596644690637917}. Best is trial 10 with value: 0.7881376026232549.\n",
      "c:\\Users\\SHOLFI\\AppData\\Local\\Programs\\Python\\Python312\\Lib\\site-packages\\sklearn\\linear_model\\_sag.py:350: ConvergenceWarning: The max_iter was reached which means the coef_ did not converge\n",
      "  warnings.warn(\n",
      "[I 2024-12-15 01:43:30,656] Trial 12 finished with value: 0.7841226270025644 and parameters: {'penalty': 'l2', 'solver': 'saga', 'C': 0.24979739958399486}. Best is trial 10 with value: 0.7881376026232549.\n",
      "c:\\Users\\SHOLFI\\AppData\\Local\\Programs\\Python\\Python312\\Lib\\site-packages\\sklearn\\linear_model\\_sag.py:350: ConvergenceWarning: The max_iter was reached which means the coef_ did not converge\n",
      "  warnings.warn(\n",
      "[I 2024-12-15 01:43:33,602] Trial 13 finished with value: 0.7840516710634647 and parameters: {'penalty': 'l2', 'solver': 'saga', 'C': 0.29236813380206655}. Best is trial 10 with value: 0.7881376026232549.\n",
      "c:\\Users\\SHOLFI\\AppData\\Local\\Programs\\Python\\Python312\\Lib\\site-packages\\sklearn\\linear_model\\_sag.py:350: ConvergenceWarning: The max_iter was reached which means the coef_ did not converge\n",
      "  warnings.warn(\n",
      "[I 2024-12-15 01:43:36,699] Trial 14 finished with value: 0.7870067741335537 and parameters: {'penalty': 'l2', 'solver': 'saga', 'C': 0.17935352669440432}. Best is trial 10 with value: 0.7881376026232549.\n",
      "c:\\Users\\SHOLFI\\AppData\\Local\\Programs\\Python\\Python312\\Lib\\site-packages\\sklearn\\linear_model\\_sag.py:350: ConvergenceWarning: The max_iter was reached which means the coef_ did not converge\n",
      "  warnings.warn(\n",
      "[I 2024-12-15 01:43:39,652] Trial 15 finished with value: 0.7807411733882763 and parameters: {'penalty': 'l2', 'solver': 'saga', 'C': 0.39275066631151756}. Best is trial 10 with value: 0.7881376026232549.\n",
      "c:\\Users\\SHOLFI\\AppData\\Local\\Programs\\Python\\Python312\\Lib\\site-packages\\sklearn\\linear_model\\_sag.py:350: ConvergenceWarning: The max_iter was reached which means the coef_ did not converge\n",
      "  warnings.warn(\n",
      "[I 2024-12-15 01:43:42,629] Trial 16 finished with value: 0.7853981197780932 and parameters: {'penalty': 'l2', 'solver': 'saga', 'C': 0.013331277979140493}. Best is trial 10 with value: 0.7881376026232549.\n",
      "c:\\Users\\SHOLFI\\AppData\\Local\\Programs\\Python\\Python312\\Lib\\site-packages\\sklearn\\linear_model\\_sag.py:350: ConvergenceWarning: The max_iter was reached which means the coef_ did not converge\n",
      "  warnings.warn(\n",
      "[I 2024-12-15 01:43:45,544] Trial 17 finished with value: 0.7832320948397171 and parameters: {'penalty': 'l2', 'solver': 'saga', 'C': 0.32816654536953493}. Best is trial 10 with value: 0.7881376026232549.\n",
      "[I 2024-12-15 01:43:45,878] Trial 18 finished with value: 0.7849296917806095 and parameters: {'penalty': 'l1', 'solver': 'liblinear', 'C': 0.15354223971739553}. Best is trial 10 with value: 0.7881376026232549.\n",
      "c:\\Users\\SHOLFI\\AppData\\Local\\Programs\\Python\\Python312\\Lib\\site-packages\\sklearn\\linear_model\\_sag.py:350: ConvergenceWarning: The max_iter was reached which means the coef_ did not converge\n",
      "  warnings.warn(\n",
      "[I 2024-12-15 01:43:49,076] Trial 19 finished with value: 0.7805331362492345 and parameters: {'penalty': 'l2', 'solver': 'saga', 'C': 0.4573170689563673}. Best is trial 10 with value: 0.7881376026232549.\n",
      "c:\\Users\\SHOLFI\\AppData\\Local\\Programs\\Python\\Python312\\Lib\\site-packages\\sklearn\\linear_model\\_sag.py:350: ConvergenceWarning: The max_iter was reached which means the coef_ did not converge\n",
      "  warnings.warn(\n",
      "[I 2024-12-15 01:43:51,998] Trial 20 finished with value: 0.7847811570937369 and parameters: {'penalty': 'l2', 'solver': 'saga', 'C': 0.21225949363142238}. Best is trial 10 with value: 0.7881376026232549.\n",
      "[I 2024-12-15 01:43:54,791] Trial 21 finished with value: 0.7816802167766255 and parameters: {'penalty': 'l2', 'solver': 'saga', 'C': 0.010327621151199689}. Best is trial 10 with value: 0.7881376026232549.\n",
      "c:\\Users\\SHOLFI\\AppData\\Local\\Programs\\Python\\Python312\\Lib\\site-packages\\sklearn\\linear_model\\_sag.py:350: ConvergenceWarning: The max_iter was reached which means the coef_ did not converge\n",
      "  warnings.warn(\n",
      "[I 2024-12-15 01:43:57,672] Trial 22 finished with value: 0.7865814896083765 and parameters: {'penalty': 'l2', 'solver': 'saga', 'C': 0.08199462800000454}. Best is trial 10 with value: 0.7881376026232549.\n",
      "c:\\Users\\SHOLFI\\AppData\\Local\\Programs\\Python\\Python312\\Lib\\site-packages\\sklearn\\linear_model\\_sag.py:350: ConvergenceWarning: The max_iter was reached which means the coef_ did not converge\n",
      "  warnings.warn(\n",
      "[I 2024-12-15 01:44:00,543] Trial 23 finished with value: 0.7869563849884854 and parameters: {'penalty': 'l2', 'solver': 'saga', 'C': 0.08722970655528865}. Best is trial 10 with value: 0.7881376026232549.\n",
      "c:\\Users\\SHOLFI\\AppData\\Local\\Programs\\Python\\Python312\\Lib\\site-packages\\sklearn\\linear_model\\_sag.py:350: ConvergenceWarning: The max_iter was reached which means the coef_ did not converge\n",
      "  warnings.warn(\n",
      "[I 2024-12-15 01:44:03,475] Trial 24 finished with value: 0.7875672347014666 and parameters: {'penalty': 'l2', 'solver': 'saga', 'C': 0.033450351828734404}. Best is trial 10 with value: 0.7881376026232549.\n",
      "c:\\Users\\SHOLFI\\AppData\\Local\\Programs\\Python\\Python312\\Lib\\site-packages\\sklearn\\linear_model\\_sag.py:350: ConvergenceWarning: The max_iter was reached which means the coef_ did not converge\n",
      "  warnings.warn(\n",
      "[I 2024-12-15 01:44:06,416] Trial 25 finished with value: 0.7844913711960244 and parameters: {'penalty': 'l2', 'solver': 'saga', 'C': 0.14866773946601153}. Best is trial 10 with value: 0.7881376026232549.\n",
      "[I 2024-12-15 01:44:06,813] Trial 26 finished with value: 0.7875573763868164 and parameters: {'penalty': 'l1', 'solver': 'liblinear', 'C': 0.30978344852746886}. Best is trial 10 with value: 0.7881376026232549.\n",
      "c:\\Users\\SHOLFI\\AppData\\Local\\Programs\\Python\\Python312\\Lib\\site-packages\\sklearn\\linear_model\\_sag.py:350: ConvergenceWarning: The max_iter was reached which means the coef_ did not converge\n",
      "  warnings.warn(\n",
      "[I 2024-12-15 01:44:09,837] Trial 27 finished with value: 0.78578180200012 and parameters: {'penalty': 'l2', 'solver': 'saga', 'C': 0.1146427920719357}. Best is trial 10 with value: 0.7881376026232549.\n",
      "c:\\Users\\SHOLFI\\AppData\\Local\\Programs\\Python\\Python312\\Lib\\site-packages\\sklearn\\linear_model\\_sag.py:350: ConvergenceWarning: The max_iter was reached which means the coef_ did not converge\n",
      "  warnings.warn(\n",
      "[I 2024-12-15 01:44:12,843] Trial 28 finished with value: 0.7850541904533404 and parameters: {'penalty': 'l2', 'solver': 'saga', 'C': 0.23338813287876106}. Best is trial 10 with value: 0.7881376026232549.\n",
      "c:\\Users\\SHOLFI\\AppData\\Local\\Programs\\Python\\Python312\\Lib\\site-packages\\sklearn\\linear_model\\_sag.py:350: ConvergenceWarning: The max_iter was reached which means the coef_ did not converge\n",
      "  warnings.warn(\n",
      "[I 2024-12-15 01:44:16,843] Trial 29 finished with value: 0.7851222729997023 and parameters: {'penalty': 'l1', 'solver': 'saga', 'C': 0.35525417087789146}. Best is trial 10 with value: 0.7881376026232549.\n",
      "c:\\Users\\SHOLFI\\AppData\\Local\\Programs\\Python\\Python312\\Lib\\site-packages\\sklearn\\linear_model\\_sag.py:350: ConvergenceWarning: The max_iter was reached which means the coef_ did not converge\n",
      "  warnings.warn(\n",
      "[I 2024-12-15 01:44:19,705] Trial 30 finished with value: 0.7857409724287063 and parameters: {'penalty': 'l2', 'solver': 'saga', 'C': 0.05511958478157286}. Best is trial 10 with value: 0.7881376026232549.\n",
      "[I 2024-12-15 01:44:20,238] Trial 31 finished with value: 0.7863317142737356 and parameters: {'penalty': 'l1', 'solver': 'liblinear', 'C': 0.2849523821204897}. Best is trial 10 with value: 0.7881376026232549.\n",
      "[I 2024-12-15 01:44:20,649] Trial 32 finished with value: 0.7839727987249013 and parameters: {'penalty': 'l1', 'solver': 'liblinear', 'C': 0.17134252772019756}. Best is trial 10 with value: 0.7881376026232549.\n",
      "[I 2024-12-15 01:44:21,391] Trial 33 finished with value: 0.7815566413514292 and parameters: {'penalty': 'l1', 'solver': 'liblinear', 'C': 0.54339842529164}. Best is trial 10 with value: 0.7881376026232549.\n",
      "[I 2024-12-15 01:44:22,097] Trial 34 finished with value: 0.7848983207789731 and parameters: {'penalty': 'l1', 'solver': 'liblinear', 'C': 0.40142712125153707}. Best is trial 10 with value: 0.7881376026232549.\n",
      "[I 2024-12-15 01:44:22,366] Trial 35 finished with value: 0.7773850418787852 and parameters: {'penalty': 'l1', 'solver': 'liblinear', 'C': 0.06815027571978963}. Best is trial 10 with value: 0.7881376026232549.\n",
      "[I 2024-12-15 01:44:22,692] Trial 36 finished with value: 0.7847725107629192 and parameters: {'penalty': 'l1', 'solver': 'liblinear', 'C': 0.1282736896412382}. Best is trial 10 with value: 0.7881376026232549.\n",
      "c:\\Users\\SHOLFI\\AppData\\Local\\Programs\\Python\\Python312\\Lib\\site-packages\\sklearn\\linear_model\\_sag.py:350: ConvergenceWarning: The max_iter was reached which means the coef_ did not converge\n",
      "  warnings.warn(\n",
      "[I 2024-12-15 01:44:25,541] Trial 37 finished with value: 0.7768780704828314 and parameters: {'penalty': 'l2', 'solver': 'saga', 'C': 0.9849795563469711}. Best is trial 10 with value: 0.7881376026232549.\n",
      "[I 2024-12-15 01:44:25,767] Trial 38 finished with value: 0.7646997938502007 and parameters: {'penalty': 'l1', 'solver': 'liblinear', 'C': 0.04202342130258464}. Best is trial 10 with value: 0.7881376026232549.\n",
      "c:\\Users\\SHOLFI\\AppData\\Local\\Programs\\Python\\Python312\\Lib\\site-packages\\sklearn\\linear_model\\_sag.py:350: ConvergenceWarning: The max_iter was reached which means the coef_ did not converge\n",
      "  warnings.warn(\n",
      "[I 2024-12-15 01:44:28,657] Trial 39 finished with value: 0.7850679721183385 and parameters: {'penalty': 'l2', 'solver': 'saga', 'C': 0.20586071968497668}. Best is trial 10 with value: 0.7881376026232549.\n",
      "[I 2024-12-15 01:44:29,098] Trial 40 finished with value: 0.7778585770634179 and parameters: {'penalty': 'l2', 'solver': 'liblinear', 'C': 0.5456306128467378}. Best is trial 10 with value: 0.7881376026232549.\n",
      "[I 2024-12-15 01:44:31,899] Trial 41 finished with value: 0.7814946885524983 and parameters: {'penalty': 'l2', 'solver': 'saga', 'C': 0.010070856182792881}. Best is trial 10 with value: 0.7881376026232549.\n",
      "c:\\Users\\SHOLFI\\AppData\\Local\\Programs\\Python\\Python312\\Lib\\site-packages\\sklearn\\linear_model\\_sag.py:350: ConvergenceWarning: The max_iter was reached which means the coef_ did not converge\n",
      "  warnings.warn(\n",
      "[I 2024-12-15 01:44:34,837] Trial 42 finished with value: 0.7852980314036244 and parameters: {'penalty': 'l2', 'solver': 'saga', 'C': 0.10317016590218969}. Best is trial 10 with value: 0.7881376026232549.\n",
      "c:\\Users\\SHOLFI\\AppData\\Local\\Programs\\Python\\Python312\\Lib\\site-packages\\sklearn\\linear_model\\_sag.py:350: ConvergenceWarning: The max_iter was reached which means the coef_ did not converge\n",
      "  warnings.warn(\n",
      "[I 2024-12-15 01:44:37,930] Trial 43 finished with value: 0.7774595013146299 and parameters: {'penalty': 'l2', 'solver': 'saga', 'C': 0.8092157277101961}. Best is trial 10 with value: 0.7881376026232549.\n",
      "c:\\Users\\SHOLFI\\AppData\\Local\\Programs\\Python\\Python312\\Lib\\site-packages\\sklearn\\linear_model\\_sag.py:350: ConvergenceWarning: The max_iter was reached which means the coef_ did not converge\n",
      "  warnings.warn(\n",
      "[I 2024-12-15 01:44:40,882] Trial 44 finished with value: 0.7867684189160686 and parameters: {'penalty': 'l2', 'solver': 'saga', 'C': 0.08453039367742712}. Best is trial 10 with value: 0.7881376026232549.\n",
      "c:\\Users\\SHOLFI\\AppData\\Local\\Programs\\Python\\Python312\\Lib\\site-packages\\sklearn\\linear_model\\_sag.py:350: ConvergenceWarning: The max_iter was reached which means the coef_ did not converge\n",
      "  warnings.warn(\n",
      "[I 2024-12-15 01:44:43,779] Trial 45 finished with value: 0.7846041425305 and parameters: {'penalty': 'l2', 'solver': 'saga', 'C': 0.26267834254742056}. Best is trial 10 with value: 0.7881376026232549.\n",
      "c:\\Users\\SHOLFI\\AppData\\Local\\Programs\\Python\\Python312\\Lib\\site-packages\\sklearn\\linear_model\\_sag.py:350: ConvergenceWarning: The max_iter was reached which means the coef_ did not converge\n",
      "  warnings.warn(\n",
      "[I 2024-12-15 01:44:46,728] Trial 46 finished with value: 0.785538457271119 and parameters: {'penalty': 'l2', 'solver': 'saga', 'C': 0.049913721098329755}. Best is trial 10 with value: 0.7881376026232549.\n",
      "c:\\Users\\SHOLFI\\AppData\\Local\\Programs\\Python\\Python312\\Lib\\site-packages\\sklearn\\linear_model\\_sag.py:350: ConvergenceWarning: The max_iter was reached which means the coef_ did not converge\n",
      "  warnings.warn(\n",
      "[I 2024-12-15 01:44:50,760] Trial 47 finished with value: 0.7816054028479255 and parameters: {'penalty': 'l1', 'solver': 'saga', 'C': 0.6899843423101684}. Best is trial 10 with value: 0.7881376026232549.\n",
      "[I 2024-12-15 01:44:51,163] Trial 48 finished with value: 0.7861395277978721 and parameters: {'penalty': 'l2', 'solver': 'liblinear', 'C': 0.18547462415036384}. Best is trial 10 with value: 0.7881376026232549.\n",
      "c:\\Users\\SHOLFI\\AppData\\Local\\Programs\\Python\\Python312\\Lib\\site-packages\\sklearn\\linear_model\\_sag.py:350: ConvergenceWarning: The max_iter was reached which means the coef_ did not converge\n",
      "  warnings.warn(\n",
      "[I 2024-12-15 01:44:54,071] Trial 49 finished with value: 0.7845973934883725 and parameters: {'penalty': 'l2', 'solver': 'saga', 'C': 0.1348589385809741}. Best is trial 10 with value: 0.7881376026232549.\n"
     ]
    },
    {
     "name": "stdout",
     "output_type": "stream",
     "text": [
      "CPU times: total: 49.3 s\n",
      "Wall time: 1min 53s\n"
     ]
    }
   ],
   "source": [
    "%%time\n",
    "# cоздаем объект исследования\n",
    "# можем напрямую указать, что нам необходимо максимизировать метрику direction=\"maximize\"\n",
    "study = optuna.create_study(study_name=\"LogisticRegression\", direction=\"maximize\")\n",
    "# ищем лучшую комбинацию гиперпараметров n_trials раз\n",
    "study.optimize(optuna_lr, n_trials=50)"
   ]
  },
  {
   "cell_type": "code",
   "execution_count": 33,
   "metadata": {},
   "outputs": [
    {
     "name": "stdout",
     "output_type": "stream",
     "text": [
      "Наилучшие значения гиперпараметров {'penalty': 'l2', 'solver': 'saga', 'C': 0.023497971398092454}\n",
      "f1_score на обучающем наборе: 0.79\n"
     ]
    }
   ],
   "source": [
    "# выводим результаты на обучающей выборке\n",
    "print(\"Наилучшие значения гиперпараметров {}\".format(study.best_params))\n",
    "print(\"f1_score на обучающем наборе: {:.2f}\".format(study.best_value))"
   ]
  },
  {
   "cell_type": "code",
   "execution_count": 34,
   "metadata": {},
   "outputs": [
    {
     "name": "stdout",
     "output_type": "stream",
     "text": [
      "accuracy на тестовом наборе: 0.77\n",
      "f1_score на тестовом наборе: 0.790\n"
     ]
    },
    {
     "name": "stderr",
     "output_type": "stream",
     "text": [
      "c:\\Users\\SHOLFI\\AppData\\Local\\Programs\\Python\\Python312\\Lib\\site-packages\\sklearn\\linear_model\\_sag.py:350: ConvergenceWarning: The max_iter was reached which means the coef_ did not converge\n",
      "  warnings.warn(\n"
     ]
    }
   ],
   "source": [
    "# рассчитаем точность для тестовой выборки\n",
    "model = linear_model.LogisticRegression(**study.best_params,random_state=random_state, )\n",
    "model.fit(X_train, y_train)\n",
    "y_train_pred = model.predict(X_train)\n",
    "print(\"accuracy на тестовом наборе: {:.2f}\".format(model.score(X_test, y_test)))\n",
    "y_test_pred = model.predict(X_test)\n",
    "print('f1_score на тестовом наборе: {:.3f}'.format(metrics.f1_score(y_test, y_test_pred)))"
   ]
  },
  {
   "cell_type": "markdown",
   "metadata": {},
   "source": [
    "---\n",
    "\n",
    "## <center> RandomForestClassifier\n",
    "\n",
    "Обучаем модели случайного леса. Подбираем гиперпараметры с помощью базовых и продвинутых методов оптимизации. Максимальное количество итераций не превышает 50."
   ]
  },
  {
   "cell_type": "code",
   "execution_count": 35,
   "metadata": {},
   "outputs": [
    {
     "name": "stdout",
     "output_type": "stream",
     "text": [
      "Train: 1.00\n",
      "Test: 0.819\n"
     ]
    }
   ],
   "source": [
    "#Создаем объект класса случайный лес\n",
    "rf = ensemble.RandomForestClassifier(random_state=42)\n",
    "\n",
    "#Обучаем модель\n",
    "rf.fit(X_train, y_train)\n",
    "#Выводим значения метрики \n",
    "y_train_pred = rf.predict(X_train)\n",
    "print('Train: {:.2f}'.format(metrics.f1_score(y_train, y_train_pred)))\n",
    "y_test_pred = rf.predict(X_test)\n",
    "print('Test: {:.3f}'.format(metrics.f1_score(y_test, y_test_pred)))"
   ]
  },
  {
   "cell_type": "markdown",
   "metadata": {},
   "source": [
    "### <center> GridSearchCV"
   ]
  },
  {
   "cell_type": "code",
   "execution_count": null,
   "metadata": {},
   "outputs": [
    {
     "name": "stdout",
     "output_type": "stream",
     "text": [
      "CPU times: total: 875 ms\n",
      "Wall time: 19.4 s\n",
      "f1_score на обучающем наборе: 0.94\n",
      "accuracy на тестовом наборе: 0.79\n",
      "f1_score на тестовом наборе: 0.811\n",
      "Наилучшие значения гиперпараметров: {'max_depth': 22, 'min_samples_leaf': 5, 'n_estimators': 80}\n"
     ]
    }
   ],
   "source": [
    "param_grid = {'n_estimators': list(range(50, 170, 30)),\n",
    "              'min_samples_leaf': [5, 7, 10],\n",
    "              'max_depth': list(np.linspace(20, 40, 5, dtype=int))\n",
    "              }\n",
    "            \n",
    "grid_search_forest = GridSearchCV(\n",
    "    estimator=ensemble.RandomForestClassifier(random_state=42), \n",
    "    param_grid=param_grid, \n",
    "    cv=5, \n",
    "    n_jobs = -1\n",
    ")  \n",
    "%time grid_search_forest.fit(X_train, y_train) \n",
    "y_train_pred = grid_search_forest.predict(X_train)\n",
    "print('f1_score на обучающем наборе: {:.2f}'.format(metrics.f1_score(y_train, y_train_pred)))\n",
    "print(\"accuracy на тестовом наборе: {:.2f}\".format(grid_search_forest.score(X_test, y_test)))\n",
    "y_test_pred = grid_search_forest.predict(X_test)\n",
    "print('f1_score на тестовом наборе: {:.3f}'.format(metrics.f1_score(y_test, y_test_pred)))\n",
    "print(\"Наилучшие значения гиперпараметров: {}\".format(grid_search_forest.best_params_))"
   ]
  },
  {
   "cell_type": "markdown",
   "metadata": {},
   "source": [
    "### <center> RandomizedSearchCV"
   ]
  },
  {
   "cell_type": "code",
   "execution_count": null,
   "metadata": {},
   "outputs": [
    {
     "name": "stderr",
     "output_type": "stream",
     "text": [
      "c:\\Users\\SHOLFI\\AppData\\Local\\Programs\\Python\\Python312\\Lib\\site-packages\\sklearn\\model_selection\\_search.py:318: UserWarning: The total space of parameters 48 is smaller than n_iter=50. Running 48 iterations. For exhaustive searches, use GridSearchCV.\n",
      "  warnings.warn(\n"
     ]
    },
    {
     "name": "stdout",
     "output_type": "stream",
     "text": [
      "CPU times: total: 859 ms\n",
      "Wall time: 19.5 s\n",
      "f1_score на обучающем наборе: 0.94\n",
      "accuracy на тестовом наборе: 0.79\n",
      "f1_score на тестовом наборе: 0.811\n",
      "Наилучшие значения гиперпараметров: {'n_estimators': 80, 'min_samples_leaf': 5, 'max_depth': 22}\n"
     ]
    }
   ],
   "source": [
    "param_distributions = {'n_estimators': list(range(50, 170, 30)),\n",
    "              'min_samples_leaf': [5, 7, 10],\n",
    "              'max_depth': list(np.linspace(20, 40, 5, dtype=int))\n",
    "              }\n",
    "            \n",
    "random_search_forest = RandomizedSearchCV(\n",
    "    estimator=ensemble.RandomForestClassifier(random_state=42), \n",
    "    param_distributions=param_distributions, \n",
    "    cv=5,\n",
    "    n_iter = 50, \n",
    "    n_jobs = -1\n",
    ")  \n",
    "%time random_search_forest.fit(X_train, y_train) \n",
    "y_train_pred = random_search_forest.predict(X_train)\n",
    "print('f1_score на обучающем наборе: {:.2f}'.format(metrics.f1_score(y_train, y_train_pred)))\n",
    "print(\"accuracy на тестовом наборе: {:.2f}\".format(random_search_forest.score(X_test, y_test)))\n",
    "y_test_pred = random_search_forest.predict(X_test)\n",
    "print('f1_score на тестовом наборе: {:.3f}'.format(metrics.f1_score(y_test, y_test_pred)))\n",
    "print(\"Наилучшие значения гиперпараметров: {}\".format(random_search_forest.best_params_))"
   ]
  },
  {
   "cell_type": "markdown",
   "metadata": {},
   "source": [
    "### <center> Hyperopt"
   ]
  },
  {
   "cell_type": "code",
   "execution_count": 38,
   "metadata": {},
   "outputs": [],
   "source": [
    "# зададим пространство поиска гиперпараметров\n",
    "space={'n_estimators': hp.quniform('n_estimators', 100, 200, 1),\n",
    "       'max_depth' : hp.quniform('max_depth', 15, 26, 1),\n",
    "       'min_samples_leaf': hp.quniform('min_samples_leaf', 2, 10, 1)\n",
    "      }"
   ]
  },
  {
   "cell_type": "code",
   "execution_count": 39,
   "metadata": {},
   "outputs": [],
   "source": [
    "# зафксируем random_state\n",
    "random_state = 42\n",
    "def hyperopt_rf(params, cv=5, X=X_train, y=y_train, random_state=random_state):\n",
    "    # функция получает комбинацию гиперпараметров в \"params\"\n",
    "    params = {'n_estimators': int(params['n_estimators']), \n",
    "              'max_depth': int(params['max_depth']), \n",
    "             'min_samples_leaf': int(params['min_samples_leaf'])\n",
    "              }\n",
    "  \n",
    "    # используем эту комбинацию для построения модели\n",
    "    model = ensemble.RandomForestClassifier(**params, random_state=random_state)\n",
    "\n",
    "    # обучаем модель\n",
    "    model.fit(X, y)\n",
    "    #score = metrics.f1_score(y, model.predict(X))\n",
    "    \n",
    "    score = cross_val_score(model, X, y, cv=5, scoring=\"f1\", n_jobs=-1).mean()\n",
    "    # метрику необходимо минимизировать, поэтому ставим знак минус\n",
    "    return -score"
   ]
  },
  {
   "cell_type": "code",
   "execution_count": 40,
   "metadata": {},
   "outputs": [
    {
     "name": "stdout",
     "output_type": "stream",
     "text": [
      "100%|██████████| 50/50 [01:46<00:00,  2.13s/trial, best loss: -0.8167441020057085]\n",
      "Наилучшие значения гиперпараметров {'max_depth': 21.0, 'min_samples_leaf': 3.0, 'n_estimators': 170.0}\n",
      "CPU times: total: 50.9 s\n",
      "Wall time: 1min 46s\n"
     ]
    }
   ],
   "source": [
    "%%time\n",
    "# начинаем подбор гиперпараметров\n",
    "\n",
    "trials = Trials() # используется для логирования результатов\n",
    "\n",
    "best=fmin(hyperopt_rf, # наша функция \n",
    "          space=space, # пространство гиперпараметров\n",
    "          algo=tpe.suggest, # алгоритм оптимизации, установлен по умолчанию, задавать необязательно\n",
    "          max_evals=50, # максимальное количество итераций\n",
    "          trials=trials, # логирование результатов\n",
    "          rstate=np.random.default_rng(random_state)# фиксируем для повторяемости результата\n",
    "         )\n",
    "print(\"Наилучшие значения гиперпараметров {}\".format(best))"
   ]
  },
  {
   "cell_type": "code",
   "execution_count": 41,
   "metadata": {},
   "outputs": [
    {
     "name": "stdout",
     "output_type": "stream",
     "text": [
      "f1_score на обучающем наборе: 0.97\n",
      "accuracy на тестовом наборе: 0.80\n",
      "f1_score на тестовом наборе: 0.823\n"
     ]
    }
   ],
   "source": [
    "# рассчитаем точность для тестовой выборки\n",
    "model = ensemble.RandomForestClassifier(\n",
    "    random_state=random_state, \n",
    "    n_estimators=int(best['n_estimators']),\n",
    "    max_depth=int(best['max_depth']),\n",
    "    min_samples_leaf=int(best['min_samples_leaf'])\n",
    ")\n",
    "model.fit(X_train, y_train)\n",
    "y_train_pred = model.predict(X_train)\n",
    "print('f1_score на обучающем наборе: {:.2f}'.format(metrics.f1_score(y_train, y_train_pred)))\n",
    "print(\"accuracy на тестовом наборе: {:.2f}\".format(model.score(X_test, y_test)))\n",
    "y_test_pred = model.predict(X_test)\n",
    "print('f1_score на тестовом наборе: {:.3f}'.format(metrics.f1_score(y_test, y_test_pred)))"
   ]
  },
  {
   "cell_type": "markdown",
   "metadata": {},
   "source": [
    "## <center> Optuna"
   ]
  },
  {
   "cell_type": "markdown",
   "metadata": {},
   "source": [
    "Настроим оптимизацию гиперпараметров для алгоритма случайного леса."
   ]
  },
  {
   "cell_type": "code",
   "execution_count": 42,
   "metadata": {},
   "outputs": [],
   "source": [
    "def optuna_rf(trial):\n",
    "  # задаем пространства поиска гиперпараметров\n",
    "  n_estimators = trial.suggest_int('n_estimators', 100, 200, 1)\n",
    "  max_depth = trial.suggest_int('max_depth', 10, 30, 1)\n",
    "  min_samples_leaf = trial.suggest_int('min_samples_leaf', 2, 10, 1)\n",
    "\n",
    "  # создаем модель\n",
    "  model = ensemble.RandomForestClassifier(n_estimators=n_estimators,\n",
    "                                          max_depth=max_depth,\n",
    "                                          min_samples_leaf=min_samples_leaf,\n",
    "                                          random_state=random_state)\n",
    "  # обучаем модель\n",
    "  model.fit(X_train, y_train)\n",
    "  #score = metrics.f1_score(y_train, model.predict(X_train))\n",
    "  \n",
    "  score = cross_val_score(model, X, y, cv=5, scoring=\"f1\", n_jobs=-1).mean()\n",
    "  return score\n",
    "  \n",
    "  "
   ]
  },
  {
   "cell_type": "code",
   "execution_count": 43,
   "metadata": {},
   "outputs": [
    {
     "name": "stderr",
     "output_type": "stream",
     "text": [
      "[I 2024-12-15 01:47:22,872] A new study created in memory with name: RandomForestClassifier\n",
      "C:\\Users\\SHOLFI\\AppData\\Local\\Temp\\ipykernel_15968\\3494334642.py:3: FutureWarning: suggest_int() got {'step'} as positional arguments but they were expected to be given as keyword arguments.\n",
      "  n_estimators = trial.suggest_int('n_estimators', 100, 200, 1)\n",
      "C:\\Users\\SHOLFI\\AppData\\Local\\Temp\\ipykernel_15968\\3494334642.py:4: FutureWarning: suggest_int() got {'step'} as positional arguments but they were expected to be given as keyword arguments.\n",
      "  max_depth = trial.suggest_int('max_depth', 10, 30, 1)\n",
      "C:\\Users\\SHOLFI\\AppData\\Local\\Temp\\ipykernel_15968\\3494334642.py:5: FutureWarning: suggest_int() got {'step'} as positional arguments but they were expected to be given as keyword arguments.\n",
      "  min_samples_leaf = trial.suggest_int('min_samples_leaf', 2, 10, 1)\n",
      "[I 2024-12-15 01:47:25,594] Trial 0 finished with value: 0.799697559638032 and parameters: {'n_estimators': 197, 'max_depth': 26, 'min_samples_leaf': 9}. Best is trial 0 with value: 0.799697559638032.\n",
      "C:\\Users\\SHOLFI\\AppData\\Local\\Temp\\ipykernel_15968\\3494334642.py:3: FutureWarning: suggest_int() got {'step'} as positional arguments but they were expected to be given as keyword arguments.\n",
      "  n_estimators = trial.suggest_int('n_estimators', 100, 200, 1)\n",
      "C:\\Users\\SHOLFI\\AppData\\Local\\Temp\\ipykernel_15968\\3494334642.py:4: FutureWarning: suggest_int() got {'step'} as positional arguments but they were expected to be given as keyword arguments.\n",
      "  max_depth = trial.suggest_int('max_depth', 10, 30, 1)\n",
      "C:\\Users\\SHOLFI\\AppData\\Local\\Temp\\ipykernel_15968\\3494334642.py:5: FutureWarning: suggest_int() got {'step'} as positional arguments but they were expected to be given as keyword arguments.\n",
      "  min_samples_leaf = trial.suggest_int('min_samples_leaf', 2, 10, 1)\n",
      "[I 2024-12-15 01:47:27,769] Trial 1 finished with value: 0.796428058587082 and parameters: {'n_estimators': 158, 'max_depth': 23, 'min_samples_leaf': 10}. Best is trial 0 with value: 0.799697559638032.\n",
      "C:\\Users\\SHOLFI\\AppData\\Local\\Temp\\ipykernel_15968\\3494334642.py:3: FutureWarning: suggest_int() got {'step'} as positional arguments but they were expected to be given as keyword arguments.\n",
      "  n_estimators = trial.suggest_int('n_estimators', 100, 200, 1)\n",
      "C:\\Users\\SHOLFI\\AppData\\Local\\Temp\\ipykernel_15968\\3494334642.py:4: FutureWarning: suggest_int() got {'step'} as positional arguments but they were expected to be given as keyword arguments.\n",
      "  max_depth = trial.suggest_int('max_depth', 10, 30, 1)\n",
      "C:\\Users\\SHOLFI\\AppData\\Local\\Temp\\ipykernel_15968\\3494334642.py:5: FutureWarning: suggest_int() got {'step'} as positional arguments but they were expected to be given as keyword arguments.\n",
      "  min_samples_leaf = trial.suggest_int('min_samples_leaf', 2, 10, 1)\n",
      "[I 2024-12-15 01:47:29,725] Trial 2 finished with value: 0.7990462315626348 and parameters: {'n_estimators': 135, 'max_depth': 21, 'min_samples_leaf': 9}. Best is trial 0 with value: 0.799697559638032.\n",
      "C:\\Users\\SHOLFI\\AppData\\Local\\Temp\\ipykernel_15968\\3494334642.py:3: FutureWarning: suggest_int() got {'step'} as positional arguments but they were expected to be given as keyword arguments.\n",
      "  n_estimators = trial.suggest_int('n_estimators', 100, 200, 1)\n",
      "C:\\Users\\SHOLFI\\AppData\\Local\\Temp\\ipykernel_15968\\3494334642.py:4: FutureWarning: suggest_int() got {'step'} as positional arguments but they were expected to be given as keyword arguments.\n",
      "  max_depth = trial.suggest_int('max_depth', 10, 30, 1)\n",
      "C:\\Users\\SHOLFI\\AppData\\Local\\Temp\\ipykernel_15968\\3494334642.py:5: FutureWarning: suggest_int() got {'step'} as positional arguments but they were expected to be given as keyword arguments.\n",
      "  min_samples_leaf = trial.suggest_int('min_samples_leaf', 2, 10, 1)\n",
      "[I 2024-12-15 01:47:32,174] Trial 3 finished with value: 0.7982965161386308 and parameters: {'n_estimators': 180, 'max_depth': 12, 'min_samples_leaf': 9}. Best is trial 0 with value: 0.799697559638032.\n",
      "C:\\Users\\SHOLFI\\AppData\\Local\\Temp\\ipykernel_15968\\3494334642.py:3: FutureWarning: suggest_int() got {'step'} as positional arguments but they were expected to be given as keyword arguments.\n",
      "  n_estimators = trial.suggest_int('n_estimators', 100, 200, 1)\n",
      "C:\\Users\\SHOLFI\\AppData\\Local\\Temp\\ipykernel_15968\\3494334642.py:4: FutureWarning: suggest_int() got {'step'} as positional arguments but they were expected to be given as keyword arguments.\n",
      "  max_depth = trial.suggest_int('max_depth', 10, 30, 1)\n",
      "C:\\Users\\SHOLFI\\AppData\\Local\\Temp\\ipykernel_15968\\3494334642.py:5: FutureWarning: suggest_int() got {'step'} as positional arguments but they were expected to be given as keyword arguments.\n",
      "  min_samples_leaf = trial.suggest_int('min_samples_leaf', 2, 10, 1)\n",
      "[I 2024-12-15 01:47:34,924] Trial 4 finished with value: 0.8119145676066907 and parameters: {'n_estimators': 178, 'max_depth': 24, 'min_samples_leaf': 5}. Best is trial 4 with value: 0.8119145676066907.\n",
      "C:\\Users\\SHOLFI\\AppData\\Local\\Temp\\ipykernel_15968\\3494334642.py:3: FutureWarning: suggest_int() got {'step'} as positional arguments but they were expected to be given as keyword arguments.\n",
      "  n_estimators = trial.suggest_int('n_estimators', 100, 200, 1)\n",
      "C:\\Users\\SHOLFI\\AppData\\Local\\Temp\\ipykernel_15968\\3494334642.py:4: FutureWarning: suggest_int() got {'step'} as positional arguments but they were expected to be given as keyword arguments.\n",
      "  max_depth = trial.suggest_int('max_depth', 10, 30, 1)\n",
      "C:\\Users\\SHOLFI\\AppData\\Local\\Temp\\ipykernel_15968\\3494334642.py:5: FutureWarning: suggest_int() got {'step'} as positional arguments but they were expected to be given as keyword arguments.\n",
      "  min_samples_leaf = trial.suggest_int('min_samples_leaf', 2, 10, 1)\n",
      "[I 2024-12-15 01:47:36,623] Trial 5 finished with value: 0.8091633545304695 and parameters: {'n_estimators': 107, 'max_depth': 16, 'min_samples_leaf': 5}. Best is trial 4 with value: 0.8119145676066907.\n",
      "C:\\Users\\SHOLFI\\AppData\\Local\\Temp\\ipykernel_15968\\3494334642.py:3: FutureWarning: suggest_int() got {'step'} as positional arguments but they were expected to be given as keyword arguments.\n",
      "  n_estimators = trial.suggest_int('n_estimators', 100, 200, 1)\n",
      "C:\\Users\\SHOLFI\\AppData\\Local\\Temp\\ipykernel_15968\\3494334642.py:4: FutureWarning: suggest_int() got {'step'} as positional arguments but they were expected to be given as keyword arguments.\n",
      "  max_depth = trial.suggest_int('max_depth', 10, 30, 1)\n",
      "C:\\Users\\SHOLFI\\AppData\\Local\\Temp\\ipykernel_15968\\3494334642.py:5: FutureWarning: suggest_int() got {'step'} as positional arguments but they were expected to be given as keyword arguments.\n",
      "  min_samples_leaf = trial.suggest_int('min_samples_leaf', 2, 10, 1)\n",
      "[I 2024-12-15 01:47:38,974] Trial 6 finished with value: 0.8128529477788711 and parameters: {'n_estimators': 143, 'max_depth': 28, 'min_samples_leaf': 4}. Best is trial 6 with value: 0.8128529477788711.\n",
      "C:\\Users\\SHOLFI\\AppData\\Local\\Temp\\ipykernel_15968\\3494334642.py:3: FutureWarning: suggest_int() got {'step'} as positional arguments but they were expected to be given as keyword arguments.\n",
      "  n_estimators = trial.suggest_int('n_estimators', 100, 200, 1)\n",
      "C:\\Users\\SHOLFI\\AppData\\Local\\Temp\\ipykernel_15968\\3494334642.py:4: FutureWarning: suggest_int() got {'step'} as positional arguments but they were expected to be given as keyword arguments.\n",
      "  max_depth = trial.suggest_int('max_depth', 10, 30, 1)\n",
      "C:\\Users\\SHOLFI\\AppData\\Local\\Temp\\ipykernel_15968\\3494334642.py:5: FutureWarning: suggest_int() got {'step'} as positional arguments but they were expected to be given as keyword arguments.\n",
      "  min_samples_leaf = trial.suggest_int('min_samples_leaf', 2, 10, 1)\n",
      "[I 2024-12-15 01:47:40,654] Trial 7 finished with value: 0.8029523646338209 and parameters: {'n_estimators': 113, 'max_depth': 23, 'min_samples_leaf': 8}. Best is trial 6 with value: 0.8128529477788711.\n",
      "C:\\Users\\SHOLFI\\AppData\\Local\\Temp\\ipykernel_15968\\3494334642.py:3: FutureWarning: suggest_int() got {'step'} as positional arguments but they were expected to be given as keyword arguments.\n",
      "  n_estimators = trial.suggest_int('n_estimators', 100, 200, 1)\n",
      "C:\\Users\\SHOLFI\\AppData\\Local\\Temp\\ipykernel_15968\\3494334642.py:4: FutureWarning: suggest_int() got {'step'} as positional arguments but they were expected to be given as keyword arguments.\n",
      "  max_depth = trial.suggest_int('max_depth', 10, 30, 1)\n",
      "C:\\Users\\SHOLFI\\AppData\\Local\\Temp\\ipykernel_15968\\3494334642.py:5: FutureWarning: suggest_int() got {'step'} as positional arguments but they were expected to be given as keyword arguments.\n",
      "  min_samples_leaf = trial.suggest_int('min_samples_leaf', 2, 10, 1)\n",
      "[I 2024-12-15 01:47:43,250] Trial 8 finished with value: 0.8056344450059665 and parameters: {'n_estimators': 180, 'max_depth': 14, 'min_samples_leaf': 7}. Best is trial 6 with value: 0.8128529477788711.\n",
      "C:\\Users\\SHOLFI\\AppData\\Local\\Temp\\ipykernel_15968\\3494334642.py:3: FutureWarning: suggest_int() got {'step'} as positional arguments but they were expected to be given as keyword arguments.\n",
      "  n_estimators = trial.suggest_int('n_estimators', 100, 200, 1)\n",
      "C:\\Users\\SHOLFI\\AppData\\Local\\Temp\\ipykernel_15968\\3494334642.py:4: FutureWarning: suggest_int() got {'step'} as positional arguments but they were expected to be given as keyword arguments.\n",
      "  max_depth = trial.suggest_int('max_depth', 10, 30, 1)\n",
      "C:\\Users\\SHOLFI\\AppData\\Local\\Temp\\ipykernel_15968\\3494334642.py:5: FutureWarning: suggest_int() got {'step'} as positional arguments but they were expected to be given as keyword arguments.\n",
      "  min_samples_leaf = trial.suggest_int('min_samples_leaf', 2, 10, 1)\n",
      "[I 2024-12-15 01:47:45,399] Trial 9 finished with value: 0.8064705273245792 and parameters: {'n_estimators': 141, 'max_depth': 12, 'min_samples_leaf': 4}. Best is trial 6 with value: 0.8128529477788711.\n",
      "C:\\Users\\SHOLFI\\AppData\\Local\\Temp\\ipykernel_15968\\3494334642.py:3: FutureWarning: suggest_int() got {'step'} as positional arguments but they were expected to be given as keyword arguments.\n",
      "  n_estimators = trial.suggest_int('n_estimators', 100, 200, 1)\n",
      "C:\\Users\\SHOLFI\\AppData\\Local\\Temp\\ipykernel_15968\\3494334642.py:4: FutureWarning: suggest_int() got {'step'} as positional arguments but they were expected to be given as keyword arguments.\n",
      "  max_depth = trial.suggest_int('max_depth', 10, 30, 1)\n",
      "C:\\Users\\SHOLFI\\AppData\\Local\\Temp\\ipykernel_15968\\3494334642.py:5: FutureWarning: suggest_int() got {'step'} as positional arguments but they were expected to be given as keyword arguments.\n",
      "  min_samples_leaf = trial.suggest_int('min_samples_leaf', 2, 10, 1)\n",
      "[I 2024-12-15 01:47:47,669] Trial 10 finished with value: 0.8131035860190433 and parameters: {'n_estimators': 126, 'max_depth': 30, 'min_samples_leaf': 2}. Best is trial 10 with value: 0.8131035860190433.\n",
      "C:\\Users\\SHOLFI\\AppData\\Local\\Temp\\ipykernel_15968\\3494334642.py:3: FutureWarning: suggest_int() got {'step'} as positional arguments but they were expected to be given as keyword arguments.\n",
      "  n_estimators = trial.suggest_int('n_estimators', 100, 200, 1)\n",
      "C:\\Users\\SHOLFI\\AppData\\Local\\Temp\\ipykernel_15968\\3494334642.py:4: FutureWarning: suggest_int() got {'step'} as positional arguments but they were expected to be given as keyword arguments.\n",
      "  max_depth = trial.suggest_int('max_depth', 10, 30, 1)\n",
      "C:\\Users\\SHOLFI\\AppData\\Local\\Temp\\ipykernel_15968\\3494334642.py:5: FutureWarning: suggest_int() got {'step'} as positional arguments but they were expected to be given as keyword arguments.\n",
      "  min_samples_leaf = trial.suggest_int('min_samples_leaf', 2, 10, 1)\n",
      "[I 2024-12-15 01:47:49,974] Trial 11 finished with value: 0.8127936416214219 and parameters: {'n_estimators': 125, 'max_depth': 30, 'min_samples_leaf': 2}. Best is trial 10 with value: 0.8131035860190433.\n",
      "C:\\Users\\SHOLFI\\AppData\\Local\\Temp\\ipykernel_15968\\3494334642.py:3: FutureWarning: suggest_int() got {'step'} as positional arguments but they were expected to be given as keyword arguments.\n",
      "  n_estimators = trial.suggest_int('n_estimators', 100, 200, 1)\n",
      "C:\\Users\\SHOLFI\\AppData\\Local\\Temp\\ipykernel_15968\\3494334642.py:4: FutureWarning: suggest_int() got {'step'} as positional arguments but they were expected to be given as keyword arguments.\n",
      "  max_depth = trial.suggest_int('max_depth', 10, 30, 1)\n",
      "C:\\Users\\SHOLFI\\AppData\\Local\\Temp\\ipykernel_15968\\3494334642.py:5: FutureWarning: suggest_int() got {'step'} as positional arguments but they were expected to be given as keyword arguments.\n",
      "  min_samples_leaf = trial.suggest_int('min_samples_leaf', 2, 10, 1)\n",
      "[I 2024-12-15 01:47:52,773] Trial 12 finished with value: 0.812651182862456 and parameters: {'n_estimators': 156, 'max_depth': 30, 'min_samples_leaf': 2}. Best is trial 10 with value: 0.8131035860190433.\n",
      "C:\\Users\\SHOLFI\\AppData\\Local\\Temp\\ipykernel_15968\\3494334642.py:3: FutureWarning: suggest_int() got {'step'} as positional arguments but they were expected to be given as keyword arguments.\n",
      "  n_estimators = trial.suggest_int('n_estimators', 100, 200, 1)\n",
      "C:\\Users\\SHOLFI\\AppData\\Local\\Temp\\ipykernel_15968\\3494334642.py:4: FutureWarning: suggest_int() got {'step'} as positional arguments but they were expected to be given as keyword arguments.\n",
      "  max_depth = trial.suggest_int('max_depth', 10, 30, 1)\n",
      "C:\\Users\\SHOLFI\\AppData\\Local\\Temp\\ipykernel_15968\\3494334642.py:5: FutureWarning: suggest_int() got {'step'} as positional arguments but they were expected to be given as keyword arguments.\n",
      "  min_samples_leaf = trial.suggest_int('min_samples_leaf', 2, 10, 1)\n",
      "[I 2024-12-15 01:47:54,988] Trial 13 finished with value: 0.8131480541323187 and parameters: {'n_estimators': 127, 'max_depth': 27, 'min_samples_leaf': 3}. Best is trial 13 with value: 0.8131480541323187.\n",
      "C:\\Users\\SHOLFI\\AppData\\Local\\Temp\\ipykernel_15968\\3494334642.py:3: FutureWarning: suggest_int() got {'step'} as positional arguments but they were expected to be given as keyword arguments.\n",
      "  n_estimators = trial.suggest_int('n_estimators', 100, 200, 1)\n",
      "C:\\Users\\SHOLFI\\AppData\\Local\\Temp\\ipykernel_15968\\3494334642.py:4: FutureWarning: suggest_int() got {'step'} as positional arguments but they were expected to be given as keyword arguments.\n",
      "  max_depth = trial.suggest_int('max_depth', 10, 30, 1)\n",
      "C:\\Users\\SHOLFI\\AppData\\Local\\Temp\\ipykernel_15968\\3494334642.py:5: FutureWarning: suggest_int() got {'step'} as positional arguments but they were expected to be given as keyword arguments.\n",
      "  min_samples_leaf = trial.suggest_int('min_samples_leaf', 2, 10, 1)\n",
      "[I 2024-12-15 01:47:57,061] Trial 14 finished with value: 0.808696860565977 and parameters: {'n_estimators': 121, 'max_depth': 18, 'min_samples_leaf': 3}. Best is trial 13 with value: 0.8131480541323187.\n",
      "C:\\Users\\SHOLFI\\AppData\\Local\\Temp\\ipykernel_15968\\3494334642.py:3: FutureWarning: suggest_int() got {'step'} as positional arguments but they were expected to be given as keyword arguments.\n",
      "  n_estimators = trial.suggest_int('n_estimators', 100, 200, 1)\n",
      "C:\\Users\\SHOLFI\\AppData\\Local\\Temp\\ipykernel_15968\\3494334642.py:4: FutureWarning: suggest_int() got {'step'} as positional arguments but they were expected to be given as keyword arguments.\n",
      "  max_depth = trial.suggest_int('max_depth', 10, 30, 1)\n",
      "C:\\Users\\SHOLFI\\AppData\\Local\\Temp\\ipykernel_15968\\3494334642.py:5: FutureWarning: suggest_int() got {'step'} as positional arguments but they were expected to be given as keyword arguments.\n",
      "  min_samples_leaf = trial.suggest_int('min_samples_leaf', 2, 10, 1)\n",
      "[I 2024-12-15 01:47:58,862] Trial 15 finished with value: 0.8100866710514014 and parameters: {'n_estimators': 101, 'max_depth': 27, 'min_samples_leaf': 3}. Best is trial 13 with value: 0.8131480541323187.\n",
      "C:\\Users\\SHOLFI\\AppData\\Local\\Temp\\ipykernel_15968\\3494334642.py:3: FutureWarning: suggest_int() got {'step'} as positional arguments but they were expected to be given as keyword arguments.\n",
      "  n_estimators = trial.suggest_int('n_estimators', 100, 200, 1)\n",
      "C:\\Users\\SHOLFI\\AppData\\Local\\Temp\\ipykernel_15968\\3494334642.py:4: FutureWarning: suggest_int() got {'step'} as positional arguments but they were expected to be given as keyword arguments.\n",
      "  max_depth = trial.suggest_int('max_depth', 10, 30, 1)\n",
      "C:\\Users\\SHOLFI\\AppData\\Local\\Temp\\ipykernel_15968\\3494334642.py:5: FutureWarning: suggest_int() got {'step'} as positional arguments but they were expected to be given as keyword arguments.\n",
      "  min_samples_leaf = trial.suggest_int('min_samples_leaf', 2, 10, 1)\n",
      "[I 2024-12-15 01:48:00,847] Trial 16 finished with value: 0.808701563056144 and parameters: {'n_estimators': 128, 'max_depth': 26, 'min_samples_leaf': 6}. Best is trial 13 with value: 0.8131480541323187.\n",
      "C:\\Users\\SHOLFI\\AppData\\Local\\Temp\\ipykernel_15968\\3494334642.py:3: FutureWarning: suggest_int() got {'step'} as positional arguments but they were expected to be given as keyword arguments.\n",
      "  n_estimators = trial.suggest_int('n_estimators', 100, 200, 1)\n",
      "C:\\Users\\SHOLFI\\AppData\\Local\\Temp\\ipykernel_15968\\3494334642.py:4: FutureWarning: suggest_int() got {'step'} as positional arguments but they were expected to be given as keyword arguments.\n",
      "  max_depth = trial.suggest_int('max_depth', 10, 30, 1)\n",
      "C:\\Users\\SHOLFI\\AppData\\Local\\Temp\\ipykernel_15968\\3494334642.py:5: FutureWarning: suggest_int() got {'step'} as positional arguments but they were expected to be given as keyword arguments.\n",
      "  min_samples_leaf = trial.suggest_int('min_samples_leaf', 2, 10, 1)\n",
      "[I 2024-12-15 01:48:02,979] Trial 17 finished with value: 0.8121193525629078 and parameters: {'n_estimators': 115, 'max_depth': 30, 'min_samples_leaf': 2}. Best is trial 13 with value: 0.8131480541323187.\n",
      "C:\\Users\\SHOLFI\\AppData\\Local\\Temp\\ipykernel_15968\\3494334642.py:3: FutureWarning: suggest_int() got {'step'} as positional arguments but they were expected to be given as keyword arguments.\n",
      "  n_estimators = trial.suggest_int('n_estimators', 100, 200, 1)\n",
      "C:\\Users\\SHOLFI\\AppData\\Local\\Temp\\ipykernel_15968\\3494334642.py:4: FutureWarning: suggest_int() got {'step'} as positional arguments but they were expected to be given as keyword arguments.\n",
      "  max_depth = trial.suggest_int('max_depth', 10, 30, 1)\n",
      "C:\\Users\\SHOLFI\\AppData\\Local\\Temp\\ipykernel_15968\\3494334642.py:5: FutureWarning: suggest_int() got {'step'} as positional arguments but they were expected to be given as keyword arguments.\n",
      "  min_samples_leaf = trial.suggest_int('min_samples_leaf', 2, 10, 1)\n",
      "[I 2024-12-15 01:48:05,582] Trial 18 finished with value: 0.8144435573057617 and parameters: {'n_estimators': 149, 'max_depth': 21, 'min_samples_leaf': 3}. Best is trial 18 with value: 0.8144435573057617.\n",
      "C:\\Users\\SHOLFI\\AppData\\Local\\Temp\\ipykernel_15968\\3494334642.py:3: FutureWarning: suggest_int() got {'step'} as positional arguments but they were expected to be given as keyword arguments.\n",
      "  n_estimators = trial.suggest_int('n_estimators', 100, 200, 1)\n",
      "C:\\Users\\SHOLFI\\AppData\\Local\\Temp\\ipykernel_15968\\3494334642.py:4: FutureWarning: suggest_int() got {'step'} as positional arguments but they were expected to be given as keyword arguments.\n",
      "  max_depth = trial.suggest_int('max_depth', 10, 30, 1)\n",
      "C:\\Users\\SHOLFI\\AppData\\Local\\Temp\\ipykernel_15968\\3494334642.py:5: FutureWarning: suggest_int() got {'step'} as positional arguments but they were expected to be given as keyword arguments.\n",
      "  min_samples_leaf = trial.suggest_int('min_samples_leaf', 2, 10, 1)\n",
      "[I 2024-12-15 01:48:08,282] Trial 19 finished with value: 0.8147847737323681 and parameters: {'n_estimators': 166, 'max_depth': 19, 'min_samples_leaf': 4}. Best is trial 19 with value: 0.8147847737323681.\n",
      "C:\\Users\\SHOLFI\\AppData\\Local\\Temp\\ipykernel_15968\\3494334642.py:3: FutureWarning: suggest_int() got {'step'} as positional arguments but they were expected to be given as keyword arguments.\n",
      "  n_estimators = trial.suggest_int('n_estimators', 100, 200, 1)\n",
      "C:\\Users\\SHOLFI\\AppData\\Local\\Temp\\ipykernel_15968\\3494334642.py:4: FutureWarning: suggest_int() got {'step'} as positional arguments but they were expected to be given as keyword arguments.\n",
      "  max_depth = trial.suggest_int('max_depth', 10, 30, 1)\n",
      "C:\\Users\\SHOLFI\\AppData\\Local\\Temp\\ipykernel_15968\\3494334642.py:5: FutureWarning: suggest_int() got {'step'} as positional arguments but they were expected to be given as keyword arguments.\n",
      "  min_samples_leaf = trial.suggest_int('min_samples_leaf', 2, 10, 1)\n",
      "[I 2024-12-15 01:48:10,862] Trial 20 finished with value: 0.8105085983698818 and parameters: {'n_estimators': 163, 'max_depth': 19, 'min_samples_leaf': 5}. Best is trial 19 with value: 0.8147847737323681.\n",
      "C:\\Users\\SHOLFI\\AppData\\Local\\Temp\\ipykernel_15968\\3494334642.py:3: FutureWarning: suggest_int() got {'step'} as positional arguments but they were expected to be given as keyword arguments.\n",
      "  n_estimators = trial.suggest_int('n_estimators', 100, 200, 1)\n",
      "C:\\Users\\SHOLFI\\AppData\\Local\\Temp\\ipykernel_15968\\3494334642.py:4: FutureWarning: suggest_int() got {'step'} as positional arguments but they were expected to be given as keyword arguments.\n",
      "  max_depth = trial.suggest_int('max_depth', 10, 30, 1)\n",
      "C:\\Users\\SHOLFI\\AppData\\Local\\Temp\\ipykernel_15968\\3494334642.py:5: FutureWarning: suggest_int() got {'step'} as positional arguments but they were expected to be given as keyword arguments.\n",
      "  min_samples_leaf = trial.suggest_int('min_samples_leaf', 2, 10, 1)\n",
      "[I 2024-12-15 01:48:13,597] Trial 21 finished with value: 0.8126390441595746 and parameters: {'n_estimators': 167, 'max_depth': 21, 'min_samples_leaf': 4}. Best is trial 19 with value: 0.8147847737323681.\n",
      "C:\\Users\\SHOLFI\\AppData\\Local\\Temp\\ipykernel_15968\\3494334642.py:3: FutureWarning: suggest_int() got {'step'} as positional arguments but they were expected to be given as keyword arguments.\n",
      "  n_estimators = trial.suggest_int('n_estimators', 100, 200, 1)\n",
      "C:\\Users\\SHOLFI\\AppData\\Local\\Temp\\ipykernel_15968\\3494334642.py:4: FutureWarning: suggest_int() got {'step'} as positional arguments but they were expected to be given as keyword arguments.\n",
      "  max_depth = trial.suggest_int('max_depth', 10, 30, 1)\n",
      "C:\\Users\\SHOLFI\\AppData\\Local\\Temp\\ipykernel_15968\\3494334642.py:5: FutureWarning: suggest_int() got {'step'} as positional arguments but they were expected to be given as keyword arguments.\n",
      "  min_samples_leaf = trial.suggest_int('min_samples_leaf', 2, 10, 1)\n",
      "[I 2024-12-15 01:48:16,046] Trial 22 finished with value: 0.8148355155187093 and parameters: {'n_estimators': 147, 'max_depth': 17, 'min_samples_leaf': 3}. Best is trial 22 with value: 0.8148355155187093.\n",
      "C:\\Users\\SHOLFI\\AppData\\Local\\Temp\\ipykernel_15968\\3494334642.py:3: FutureWarning: suggest_int() got {'step'} as positional arguments but they were expected to be given as keyword arguments.\n",
      "  n_estimators = trial.suggest_int('n_estimators', 100, 200, 1)\n",
      "C:\\Users\\SHOLFI\\AppData\\Local\\Temp\\ipykernel_15968\\3494334642.py:4: FutureWarning: suggest_int() got {'step'} as positional arguments but they were expected to be given as keyword arguments.\n",
      "  max_depth = trial.suggest_int('max_depth', 10, 30, 1)\n",
      "C:\\Users\\SHOLFI\\AppData\\Local\\Temp\\ipykernel_15968\\3494334642.py:5: FutureWarning: suggest_int() got {'step'} as positional arguments but they were expected to be given as keyword arguments.\n",
      "  min_samples_leaf = trial.suggest_int('min_samples_leaf', 2, 10, 1)\n",
      "[I 2024-12-15 01:48:18,541] Trial 23 finished with value: 0.8150291219011633 and parameters: {'n_estimators': 149, 'max_depth': 17, 'min_samples_leaf': 3}. Best is trial 23 with value: 0.8150291219011633.\n",
      "C:\\Users\\SHOLFI\\AppData\\Local\\Temp\\ipykernel_15968\\3494334642.py:3: FutureWarning: suggest_int() got {'step'} as positional arguments but they were expected to be given as keyword arguments.\n",
      "  n_estimators = trial.suggest_int('n_estimators', 100, 200, 1)\n",
      "C:\\Users\\SHOLFI\\AppData\\Local\\Temp\\ipykernel_15968\\3494334642.py:4: FutureWarning: suggest_int() got {'step'} as positional arguments but they were expected to be given as keyword arguments.\n",
      "  max_depth = trial.suggest_int('max_depth', 10, 30, 1)\n",
      "C:\\Users\\SHOLFI\\AppData\\Local\\Temp\\ipykernel_15968\\3494334642.py:5: FutureWarning: suggest_int() got {'step'} as positional arguments but they were expected to be given as keyword arguments.\n",
      "  min_samples_leaf = trial.suggest_int('min_samples_leaf', 2, 10, 1)\n",
      "[I 2024-12-15 01:48:21,209] Trial 24 finished with value: 0.8104152195150991 and parameters: {'n_estimators': 169, 'max_depth': 16, 'min_samples_leaf': 4}. Best is trial 23 with value: 0.8150291219011633.\n",
      "C:\\Users\\SHOLFI\\AppData\\Local\\Temp\\ipykernel_15968\\3494334642.py:3: FutureWarning: suggest_int() got {'step'} as positional arguments but they were expected to be given as keyword arguments.\n",
      "  n_estimators = trial.suggest_int('n_estimators', 100, 200, 1)\n",
      "C:\\Users\\SHOLFI\\AppData\\Local\\Temp\\ipykernel_15968\\3494334642.py:4: FutureWarning: suggest_int() got {'step'} as positional arguments but they were expected to be given as keyword arguments.\n",
      "  max_depth = trial.suggest_int('max_depth', 10, 30, 1)\n",
      "C:\\Users\\SHOLFI\\AppData\\Local\\Temp\\ipykernel_15968\\3494334642.py:5: FutureWarning: suggest_int() got {'step'} as positional arguments but they were expected to be given as keyword arguments.\n",
      "  min_samples_leaf = trial.suggest_int('min_samples_leaf', 2, 10, 1)\n",
      "[I 2024-12-15 01:48:23,507] Trial 25 finished with value: 0.8055429661656112 and parameters: {'n_estimators': 150, 'max_depth': 17, 'min_samples_leaf': 6}. Best is trial 23 with value: 0.8150291219011633.\n",
      "C:\\Users\\SHOLFI\\AppData\\Local\\Temp\\ipykernel_15968\\3494334642.py:3: FutureWarning: suggest_int() got {'step'} as positional arguments but they were expected to be given as keyword arguments.\n",
      "  n_estimators = trial.suggest_int('n_estimators', 100, 200, 1)\n",
      "C:\\Users\\SHOLFI\\AppData\\Local\\Temp\\ipykernel_15968\\3494334642.py:4: FutureWarning: suggest_int() got {'step'} as positional arguments but they were expected to be given as keyword arguments.\n",
      "  max_depth = trial.suggest_int('max_depth', 10, 30, 1)\n",
      "C:\\Users\\SHOLFI\\AppData\\Local\\Temp\\ipykernel_15968\\3494334642.py:5: FutureWarning: suggest_int() got {'step'} as positional arguments but they were expected to be given as keyword arguments.\n",
      "  min_samples_leaf = trial.suggest_int('min_samples_leaf', 2, 10, 1)\n",
      "[I 2024-12-15 01:48:26,342] Trial 26 finished with value: 0.8150182224655301 and parameters: {'n_estimators': 174, 'max_depth': 15, 'min_samples_leaf': 3}. Best is trial 23 with value: 0.8150291219011633.\n",
      "C:\\Users\\SHOLFI\\AppData\\Local\\Temp\\ipykernel_15968\\3494334642.py:3: FutureWarning: suggest_int() got {'step'} as positional arguments but they were expected to be given as keyword arguments.\n",
      "  n_estimators = trial.suggest_int('n_estimators', 100, 200, 1)\n",
      "C:\\Users\\SHOLFI\\AppData\\Local\\Temp\\ipykernel_15968\\3494334642.py:4: FutureWarning: suggest_int() got {'step'} as positional arguments but they were expected to be given as keyword arguments.\n",
      "  max_depth = trial.suggest_int('max_depth', 10, 30, 1)\n",
      "C:\\Users\\SHOLFI\\AppData\\Local\\Temp\\ipykernel_15968\\3494334642.py:5: FutureWarning: suggest_int() got {'step'} as positional arguments but they were expected to be given as keyword arguments.\n",
      "  min_samples_leaf = trial.suggest_int('min_samples_leaf', 2, 10, 1)\n",
      "[I 2024-12-15 01:48:29,048] Trial 27 finished with value: 0.8042354994892664 and parameters: {'n_estimators': 194, 'max_depth': 10, 'min_samples_leaf': 3}. Best is trial 23 with value: 0.8150291219011633.\n",
      "C:\\Users\\SHOLFI\\AppData\\Local\\Temp\\ipykernel_15968\\3494334642.py:3: FutureWarning: suggest_int() got {'step'} as positional arguments but they were expected to be given as keyword arguments.\n",
      "  n_estimators = trial.suggest_int('n_estimators', 100, 200, 1)\n",
      "C:\\Users\\SHOLFI\\AppData\\Local\\Temp\\ipykernel_15968\\3494334642.py:4: FutureWarning: suggest_int() got {'step'} as positional arguments but they were expected to be given as keyword arguments.\n",
      "  max_depth = trial.suggest_int('max_depth', 10, 30, 1)\n",
      "C:\\Users\\SHOLFI\\AppData\\Local\\Temp\\ipykernel_15968\\3494334642.py:5: FutureWarning: suggest_int() got {'step'} as positional arguments but they were expected to be given as keyword arguments.\n",
      "  min_samples_leaf = trial.suggest_int('min_samples_leaf', 2, 10, 1)\n",
      "[I 2024-12-15 01:48:31,134] Trial 28 finished with value: 0.8067426926787352 and parameters: {'n_estimators': 137, 'max_depth': 14, 'min_samples_leaf': 6}. Best is trial 23 with value: 0.8150291219011633.\n",
      "C:\\Users\\SHOLFI\\AppData\\Local\\Temp\\ipykernel_15968\\3494334642.py:3: FutureWarning: suggest_int() got {'step'} as positional arguments but they were expected to be given as keyword arguments.\n",
      "  n_estimators = trial.suggest_int('n_estimators', 100, 200, 1)\n",
      "C:\\Users\\SHOLFI\\AppData\\Local\\Temp\\ipykernel_15968\\3494334642.py:4: FutureWarning: suggest_int() got {'step'} as positional arguments but they were expected to be given as keyword arguments.\n",
      "  max_depth = trial.suggest_int('max_depth', 10, 30, 1)\n",
      "C:\\Users\\SHOLFI\\AppData\\Local\\Temp\\ipykernel_15968\\3494334642.py:5: FutureWarning: suggest_int() got {'step'} as positional arguments but they were expected to be given as keyword arguments.\n",
      "  min_samples_leaf = trial.suggest_int('min_samples_leaf', 2, 10, 1)\n",
      "[I 2024-12-15 01:48:34,161] Trial 29 finished with value: 0.809848144131078 and parameters: {'n_estimators': 200, 'max_depth': 14, 'min_samples_leaf': 5}. Best is trial 23 with value: 0.8150291219011633.\n",
      "C:\\Users\\SHOLFI\\AppData\\Local\\Temp\\ipykernel_15968\\3494334642.py:3: FutureWarning: suggest_int() got {'step'} as positional arguments but they were expected to be given as keyword arguments.\n",
      "  n_estimators = trial.suggest_int('n_estimators', 100, 200, 1)\n",
      "C:\\Users\\SHOLFI\\AppData\\Local\\Temp\\ipykernel_15968\\3494334642.py:4: FutureWarning: suggest_int() got {'step'} as positional arguments but they were expected to be given as keyword arguments.\n",
      "  max_depth = trial.suggest_int('max_depth', 10, 30, 1)\n",
      "C:\\Users\\SHOLFI\\AppData\\Local\\Temp\\ipykernel_15968\\3494334642.py:5: FutureWarning: suggest_int() got {'step'} as positional arguments but they were expected to be given as keyword arguments.\n",
      "  min_samples_leaf = trial.suggest_int('min_samples_leaf', 2, 10, 1)\n",
      "[I 2024-12-15 01:48:37,385] Trial 30 finished with value: 0.8127843042666558 and parameters: {'n_estimators': 189, 'max_depth': 16, 'min_samples_leaf': 2}. Best is trial 23 with value: 0.8150291219011633.\n",
      "C:\\Users\\SHOLFI\\AppData\\Local\\Temp\\ipykernel_15968\\3494334642.py:3: FutureWarning: suggest_int() got {'step'} as positional arguments but they were expected to be given as keyword arguments.\n",
      "  n_estimators = trial.suggest_int('n_estimators', 100, 200, 1)\n",
      "C:\\Users\\SHOLFI\\AppData\\Local\\Temp\\ipykernel_15968\\3494334642.py:4: FutureWarning: suggest_int() got {'step'} as positional arguments but they were expected to be given as keyword arguments.\n",
      "  max_depth = trial.suggest_int('max_depth', 10, 30, 1)\n",
      "C:\\Users\\SHOLFI\\AppData\\Local\\Temp\\ipykernel_15968\\3494334642.py:5: FutureWarning: suggest_int() got {'step'} as positional arguments but they were expected to be given as keyword arguments.\n",
      "  min_samples_leaf = trial.suggest_int('min_samples_leaf', 2, 10, 1)\n",
      "[I 2024-12-15 01:48:40,208] Trial 31 finished with value: 0.8162853072446674 and parameters: {'n_estimators': 174, 'max_depth': 18, 'min_samples_leaf': 4}. Best is trial 31 with value: 0.8162853072446674.\n",
      "C:\\Users\\SHOLFI\\AppData\\Local\\Temp\\ipykernel_15968\\3494334642.py:3: FutureWarning: suggest_int() got {'step'} as positional arguments but they were expected to be given as keyword arguments.\n",
      "  n_estimators = trial.suggest_int('n_estimators', 100, 200, 1)\n",
      "C:\\Users\\SHOLFI\\AppData\\Local\\Temp\\ipykernel_15968\\3494334642.py:4: FutureWarning: suggest_int() got {'step'} as positional arguments but they were expected to be given as keyword arguments.\n",
      "  max_depth = trial.suggest_int('max_depth', 10, 30, 1)\n",
      "C:\\Users\\SHOLFI\\AppData\\Local\\Temp\\ipykernel_15968\\3494334642.py:5: FutureWarning: suggest_int() got {'step'} as positional arguments but they were expected to be given as keyword arguments.\n",
      "  min_samples_leaf = trial.suggest_int('min_samples_leaf', 2, 10, 1)\n",
      "[I 2024-12-15 01:48:43,105] Trial 32 finished with value: 0.8143686811430312 and parameters: {'n_estimators': 174, 'max_depth': 18, 'min_samples_leaf': 3}. Best is trial 31 with value: 0.8162853072446674.\n",
      "C:\\Users\\SHOLFI\\AppData\\Local\\Temp\\ipykernel_15968\\3494334642.py:3: FutureWarning: suggest_int() got {'step'} as positional arguments but they were expected to be given as keyword arguments.\n",
      "  n_estimators = trial.suggest_int('n_estimators', 100, 200, 1)\n",
      "C:\\Users\\SHOLFI\\AppData\\Local\\Temp\\ipykernel_15968\\3494334642.py:4: FutureWarning: suggest_int() got {'step'} as positional arguments but they were expected to be given as keyword arguments.\n",
      "  max_depth = trial.suggest_int('max_depth', 10, 30, 1)\n",
      "C:\\Users\\SHOLFI\\AppData\\Local\\Temp\\ipykernel_15968\\3494334642.py:5: FutureWarning: suggest_int() got {'step'} as positional arguments but they were expected to be given as keyword arguments.\n",
      "  min_samples_leaf = trial.suggest_int('min_samples_leaf', 2, 10, 1)\n",
      "[I 2024-12-15 01:48:45,614] Trial 33 finished with value: 0.8152559825707962 and parameters: {'n_estimators': 157, 'max_depth': 17, 'min_samples_leaf': 4}. Best is trial 31 with value: 0.8162853072446674.\n",
      "C:\\Users\\SHOLFI\\AppData\\Local\\Temp\\ipykernel_15968\\3494334642.py:3: FutureWarning: suggest_int() got {'step'} as positional arguments but they were expected to be given as keyword arguments.\n",
      "  n_estimators = trial.suggest_int('n_estimators', 100, 200, 1)\n",
      "C:\\Users\\SHOLFI\\AppData\\Local\\Temp\\ipykernel_15968\\3494334642.py:4: FutureWarning: suggest_int() got {'step'} as positional arguments but they were expected to be given as keyword arguments.\n",
      "  max_depth = trial.suggest_int('max_depth', 10, 30, 1)\n",
      "C:\\Users\\SHOLFI\\AppData\\Local\\Temp\\ipykernel_15968\\3494334642.py:5: FutureWarning: suggest_int() got {'step'} as positional arguments but they were expected to be given as keyword arguments.\n",
      "  min_samples_leaf = trial.suggest_int('min_samples_leaf', 2, 10, 1)\n",
      "[I 2024-12-15 01:48:48,175] Trial 34 finished with value: 0.81338684271087 and parameters: {'n_estimators': 157, 'max_depth': 20, 'min_samples_leaf': 4}. Best is trial 31 with value: 0.8162853072446674.\n",
      "C:\\Users\\SHOLFI\\AppData\\Local\\Temp\\ipykernel_15968\\3494334642.py:3: FutureWarning: suggest_int() got {'step'} as positional arguments but they were expected to be given as keyword arguments.\n",
      "  n_estimators = trial.suggest_int('n_estimators', 100, 200, 1)\n",
      "C:\\Users\\SHOLFI\\AppData\\Local\\Temp\\ipykernel_15968\\3494334642.py:4: FutureWarning: suggest_int() got {'step'} as positional arguments but they were expected to be given as keyword arguments.\n",
      "  max_depth = trial.suggest_int('max_depth', 10, 30, 1)\n",
      "C:\\Users\\SHOLFI\\AppData\\Local\\Temp\\ipykernel_15968\\3494334642.py:5: FutureWarning: suggest_int() got {'step'} as positional arguments but they were expected to be given as keyword arguments.\n",
      "  min_samples_leaf = trial.suggest_int('min_samples_leaf', 2, 10, 1)\n",
      "[I 2024-12-15 01:48:51,006] Trial 35 finished with value: 0.8114701786751324 and parameters: {'n_estimators': 187, 'max_depth': 15, 'min_samples_leaf': 5}. Best is trial 31 with value: 0.8162853072446674.\n",
      "C:\\Users\\SHOLFI\\AppData\\Local\\Temp\\ipykernel_15968\\3494334642.py:3: FutureWarning: suggest_int() got {'step'} as positional arguments but they were expected to be given as keyword arguments.\n",
      "  n_estimators = trial.suggest_int('n_estimators', 100, 200, 1)\n",
      "C:\\Users\\SHOLFI\\AppData\\Local\\Temp\\ipykernel_15968\\3494334642.py:4: FutureWarning: suggest_int() got {'step'} as positional arguments but they were expected to be given as keyword arguments.\n",
      "  max_depth = trial.suggest_int('max_depth', 10, 30, 1)\n",
      "C:\\Users\\SHOLFI\\AppData\\Local\\Temp\\ipykernel_15968\\3494334642.py:5: FutureWarning: suggest_int() got {'step'} as positional arguments but they were expected to be given as keyword arguments.\n",
      "  min_samples_leaf = trial.suggest_int('min_samples_leaf', 2, 10, 1)\n",
      "[I 2024-12-15 01:48:53,623] Trial 36 finished with value: 0.8089527757294125 and parameters: {'n_estimators': 174, 'max_depth': 12, 'min_samples_leaf': 4}. Best is trial 31 with value: 0.8162853072446674.\n",
      "C:\\Users\\SHOLFI\\AppData\\Local\\Temp\\ipykernel_15968\\3494334642.py:3: FutureWarning: suggest_int() got {'step'} as positional arguments but they were expected to be given as keyword arguments.\n",
      "  n_estimators = trial.suggest_int('n_estimators', 100, 200, 1)\n",
      "C:\\Users\\SHOLFI\\AppData\\Local\\Temp\\ipykernel_15968\\3494334642.py:4: FutureWarning: suggest_int() got {'step'} as positional arguments but they were expected to be given as keyword arguments.\n",
      "  max_depth = trial.suggest_int('max_depth', 10, 30, 1)\n",
      "C:\\Users\\SHOLFI\\AppData\\Local\\Temp\\ipykernel_15968\\3494334642.py:5: FutureWarning: suggest_int() got {'step'} as positional arguments but they were expected to be given as keyword arguments.\n",
      "  min_samples_leaf = trial.suggest_int('min_samples_leaf', 2, 10, 1)\n",
      "[I 2024-12-15 01:48:55,812] Trial 37 finished with value: 0.7924867327406109 and parameters: {'n_estimators': 159, 'max_depth': 13, 'min_samples_leaf': 10}. Best is trial 31 with value: 0.8162853072446674.\n",
      "C:\\Users\\SHOLFI\\AppData\\Local\\Temp\\ipykernel_15968\\3494334642.py:3: FutureWarning: suggest_int() got {'step'} as positional arguments but they were expected to be given as keyword arguments.\n",
      "  n_estimators = trial.suggest_int('n_estimators', 100, 200, 1)\n",
      "C:\\Users\\SHOLFI\\AppData\\Local\\Temp\\ipykernel_15968\\3494334642.py:4: FutureWarning: suggest_int() got {'step'} as positional arguments but they were expected to be given as keyword arguments.\n",
      "  max_depth = trial.suggest_int('max_depth', 10, 30, 1)\n",
      "C:\\Users\\SHOLFI\\AppData\\Local\\Temp\\ipykernel_15968\\3494334642.py:5: FutureWarning: suggest_int() got {'step'} as positional arguments but they were expected to be given as keyword arguments.\n",
      "  min_samples_leaf = trial.suggest_int('min_samples_leaf', 2, 10, 1)\n",
      "[I 2024-12-15 01:48:58,177] Trial 38 finished with value: 0.7985877240872867 and parameters: {'n_estimators': 173, 'max_depth': 10, 'min_samples_leaf': 6}. Best is trial 31 with value: 0.8162853072446674.\n",
      "C:\\Users\\SHOLFI\\AppData\\Local\\Temp\\ipykernel_15968\\3494334642.py:3: FutureWarning: suggest_int() got {'step'} as positional arguments but they were expected to be given as keyword arguments.\n",
      "  n_estimators = trial.suggest_int('n_estimators', 100, 200, 1)\n",
      "C:\\Users\\SHOLFI\\AppData\\Local\\Temp\\ipykernel_15968\\3494334642.py:4: FutureWarning: suggest_int() got {'step'} as positional arguments but they were expected to be given as keyword arguments.\n",
      "  max_depth = trial.suggest_int('max_depth', 10, 30, 1)\n",
      "C:\\Users\\SHOLFI\\AppData\\Local\\Temp\\ipykernel_15968\\3494334642.py:5: FutureWarning: suggest_int() got {'step'} as positional arguments but they were expected to be given as keyword arguments.\n",
      "  min_samples_leaf = trial.suggest_int('min_samples_leaf', 2, 10, 1)\n",
      "[I 2024-12-15 01:49:00,885] Trial 39 finished with value: 0.8027858515629435 and parameters: {'n_estimators': 185, 'max_depth': 23, 'min_samples_leaf': 7}. Best is trial 31 with value: 0.8162853072446674.\n",
      "C:\\Users\\SHOLFI\\AppData\\Local\\Temp\\ipykernel_15968\\3494334642.py:3: FutureWarning: suggest_int() got {'step'} as positional arguments but they were expected to be given as keyword arguments.\n",
      "  n_estimators = trial.suggest_int('n_estimators', 100, 200, 1)\n",
      "C:\\Users\\SHOLFI\\AppData\\Local\\Temp\\ipykernel_15968\\3494334642.py:4: FutureWarning: suggest_int() got {'step'} as positional arguments but they were expected to be given as keyword arguments.\n",
      "  max_depth = trial.suggest_int('max_depth', 10, 30, 1)\n",
      "C:\\Users\\SHOLFI\\AppData\\Local\\Temp\\ipykernel_15968\\3494334642.py:5: FutureWarning: suggest_int() got {'step'} as positional arguments but they were expected to be given as keyword arguments.\n",
      "  min_samples_leaf = trial.suggest_int('min_samples_leaf', 2, 10, 1)\n",
      "[I 2024-12-15 01:49:03,382] Trial 40 finished with value: 0.8101792681415267 and parameters: {'n_estimators': 161, 'max_depth': 15, 'min_samples_leaf': 5}. Best is trial 31 with value: 0.8162853072446674.\n",
      "C:\\Users\\SHOLFI\\AppData\\Local\\Temp\\ipykernel_15968\\3494334642.py:3: FutureWarning: suggest_int() got {'step'} as positional arguments but they were expected to be given as keyword arguments.\n",
      "  n_estimators = trial.suggest_int('n_estimators', 100, 200, 1)\n",
      "C:\\Users\\SHOLFI\\AppData\\Local\\Temp\\ipykernel_15968\\3494334642.py:4: FutureWarning: suggest_int() got {'step'} as positional arguments but they were expected to be given as keyword arguments.\n",
      "  max_depth = trial.suggest_int('max_depth', 10, 30, 1)\n",
      "C:\\Users\\SHOLFI\\AppData\\Local\\Temp\\ipykernel_15968\\3494334642.py:5: FutureWarning: suggest_int() got {'step'} as positional arguments but they were expected to be given as keyword arguments.\n",
      "  min_samples_leaf = trial.suggest_int('min_samples_leaf', 2, 10, 1)\n",
      "[I 2024-12-15 01:49:05,916] Trial 41 finished with value: 0.8152229402780307 and parameters: {'n_estimators': 151, 'max_depth': 17, 'min_samples_leaf': 3}. Best is trial 31 with value: 0.8162853072446674.\n",
      "C:\\Users\\SHOLFI\\AppData\\Local\\Temp\\ipykernel_15968\\3494334642.py:3: FutureWarning: suggest_int() got {'step'} as positional arguments but they were expected to be given as keyword arguments.\n",
      "  n_estimators = trial.suggest_int('n_estimators', 100, 200, 1)\n",
      "C:\\Users\\SHOLFI\\AppData\\Local\\Temp\\ipykernel_15968\\3494334642.py:4: FutureWarning: suggest_int() got {'step'} as positional arguments but they were expected to be given as keyword arguments.\n",
      "  max_depth = trial.suggest_int('max_depth', 10, 30, 1)\n",
      "C:\\Users\\SHOLFI\\AppData\\Local\\Temp\\ipykernel_15968\\3494334642.py:5: FutureWarning: suggest_int() got {'step'} as positional arguments but they were expected to be given as keyword arguments.\n",
      "  min_samples_leaf = trial.suggest_int('min_samples_leaf', 2, 10, 1)\n",
      "[I 2024-12-15 01:49:08,488] Trial 42 finished with value: 0.8137737275065013 and parameters: {'n_estimators': 152, 'max_depth': 17, 'min_samples_leaf': 3}. Best is trial 31 with value: 0.8162853072446674.\n",
      "C:\\Users\\SHOLFI\\AppData\\Local\\Temp\\ipykernel_15968\\3494334642.py:3: FutureWarning: suggest_int() got {'step'} as positional arguments but they were expected to be given as keyword arguments.\n",
      "  n_estimators = trial.suggest_int('n_estimators', 100, 200, 1)\n",
      "C:\\Users\\SHOLFI\\AppData\\Local\\Temp\\ipykernel_15968\\3494334642.py:4: FutureWarning: suggest_int() got {'step'} as positional arguments but they were expected to be given as keyword arguments.\n",
      "  max_depth = trial.suggest_int('max_depth', 10, 30, 1)\n",
      "C:\\Users\\SHOLFI\\AppData\\Local\\Temp\\ipykernel_15968\\3494334642.py:5: FutureWarning: suggest_int() got {'step'} as positional arguments but they were expected to be given as keyword arguments.\n",
      "  min_samples_leaf = trial.suggest_int('min_samples_leaf', 2, 10, 1)\n",
      "[I 2024-12-15 01:49:11,016] Trial 43 finished with value: 0.812120622582374 and parameters: {'n_estimators': 144, 'max_depth': 19, 'min_samples_leaf': 2}. Best is trial 31 with value: 0.8162853072446674.\n",
      "C:\\Users\\SHOLFI\\AppData\\Local\\Temp\\ipykernel_15968\\3494334642.py:3: FutureWarning: suggest_int() got {'step'} as positional arguments but they were expected to be given as keyword arguments.\n",
      "  n_estimators = trial.suggest_int('n_estimators', 100, 200, 1)\n",
      "C:\\Users\\SHOLFI\\AppData\\Local\\Temp\\ipykernel_15968\\3494334642.py:4: FutureWarning: suggest_int() got {'step'} as positional arguments but they were expected to be given as keyword arguments.\n",
      "  max_depth = trial.suggest_int('max_depth', 10, 30, 1)\n",
      "C:\\Users\\SHOLFI\\AppData\\Local\\Temp\\ipykernel_15968\\3494334642.py:5: FutureWarning: suggest_int() got {'step'} as positional arguments but they were expected to be given as keyword arguments.\n",
      "  min_samples_leaf = trial.suggest_int('min_samples_leaf', 2, 10, 1)\n",
      "[I 2024-12-15 01:49:13,509] Trial 44 finished with value: 0.8149225152494617 and parameters: {'n_estimators': 154, 'max_depth': 18, 'min_samples_leaf': 4}. Best is trial 31 with value: 0.8162853072446674.\n",
      "C:\\Users\\SHOLFI\\AppData\\Local\\Temp\\ipykernel_15968\\3494334642.py:3: FutureWarning: suggest_int() got {'step'} as positional arguments but they were expected to be given as keyword arguments.\n",
      "  n_estimators = trial.suggest_int('n_estimators', 100, 200, 1)\n",
      "C:\\Users\\SHOLFI\\AppData\\Local\\Temp\\ipykernel_15968\\3494334642.py:4: FutureWarning: suggest_int() got {'step'} as positional arguments but they were expected to be given as keyword arguments.\n",
      "  max_depth = trial.suggest_int('max_depth', 10, 30, 1)\n",
      "C:\\Users\\SHOLFI\\AppData\\Local\\Temp\\ipykernel_15968\\3494334642.py:5: FutureWarning: suggest_int() got {'step'} as positional arguments but they were expected to be given as keyword arguments.\n",
      "  min_samples_leaf = trial.suggest_int('min_samples_leaf', 2, 10, 1)\n",
      "[I 2024-12-15 01:49:15,856] Trial 45 finished with value: 0.8108245206594589 and parameters: {'n_estimators': 139, 'max_depth': 15, 'min_samples_leaf': 3}. Best is trial 31 with value: 0.8162853072446674.\n",
      "C:\\Users\\SHOLFI\\AppData\\Local\\Temp\\ipykernel_15968\\3494334642.py:3: FutureWarning: suggest_int() got {'step'} as positional arguments but they were expected to be given as keyword arguments.\n",
      "  n_estimators = trial.suggest_int('n_estimators', 100, 200, 1)\n",
      "C:\\Users\\SHOLFI\\AppData\\Local\\Temp\\ipykernel_15968\\3494334642.py:4: FutureWarning: suggest_int() got {'step'} as positional arguments but they were expected to be given as keyword arguments.\n",
      "  max_depth = trial.suggest_int('max_depth', 10, 30, 1)\n",
      "C:\\Users\\SHOLFI\\AppData\\Local\\Temp\\ipykernel_15968\\3494334642.py:5: FutureWarning: suggest_int() got {'step'} as positional arguments but they were expected to be given as keyword arguments.\n",
      "  min_samples_leaf = trial.suggest_int('min_samples_leaf', 2, 10, 1)\n",
      "[I 2024-12-15 01:49:18,254] Trial 46 finished with value: 0.8127548032176474 and parameters: {'n_estimators': 133, 'max_depth': 21, 'min_samples_leaf': 2}. Best is trial 31 with value: 0.8162853072446674.\n",
      "C:\\Users\\SHOLFI\\AppData\\Local\\Temp\\ipykernel_15968\\3494334642.py:3: FutureWarning: suggest_int() got {'step'} as positional arguments but they were expected to be given as keyword arguments.\n",
      "  n_estimators = trial.suggest_int('n_estimators', 100, 200, 1)\n",
      "C:\\Users\\SHOLFI\\AppData\\Local\\Temp\\ipykernel_15968\\3494334642.py:4: FutureWarning: suggest_int() got {'step'} as positional arguments but they were expected to be given as keyword arguments.\n",
      "  max_depth = trial.suggest_int('max_depth', 10, 30, 1)\n",
      "C:\\Users\\SHOLFI\\AppData\\Local\\Temp\\ipykernel_15968\\3494334642.py:5: FutureWarning: suggest_int() got {'step'} as positional arguments but they were expected to be given as keyword arguments.\n",
      "  min_samples_leaf = trial.suggest_int('min_samples_leaf', 2, 10, 1)\n",
      "[I 2024-12-15 01:49:21,105] Trial 47 finished with value: 0.813509116487024 and parameters: {'n_estimators': 183, 'max_depth': 13, 'min_samples_leaf': 4}. Best is trial 31 with value: 0.8162853072446674.\n",
      "C:\\Users\\SHOLFI\\AppData\\Local\\Temp\\ipykernel_15968\\3494334642.py:3: FutureWarning: suggest_int() got {'step'} as positional arguments but they were expected to be given as keyword arguments.\n",
      "  n_estimators = trial.suggest_int('n_estimators', 100, 200, 1)\n",
      "C:\\Users\\SHOLFI\\AppData\\Local\\Temp\\ipykernel_15968\\3494334642.py:4: FutureWarning: suggest_int() got {'step'} as positional arguments but they were expected to be given as keyword arguments.\n",
      "  max_depth = trial.suggest_int('max_depth', 10, 30, 1)\n",
      "C:\\Users\\SHOLFI\\AppData\\Local\\Temp\\ipykernel_15968\\3494334642.py:5: FutureWarning: suggest_int() got {'step'} as positional arguments but they were expected to be given as keyword arguments.\n",
      "  min_samples_leaf = trial.suggest_int('min_samples_leaf', 2, 10, 1)\n",
      "[I 2024-12-15 01:49:24,063] Trial 48 finished with value: 0.8136778826399043 and parameters: {'n_estimators': 179, 'max_depth': 16, 'min_samples_leaf': 3}. Best is trial 31 with value: 0.8162853072446674.\n",
      "C:\\Users\\SHOLFI\\AppData\\Local\\Temp\\ipykernel_15968\\3494334642.py:3: FutureWarning: suggest_int() got {'step'} as positional arguments but they were expected to be given as keyword arguments.\n",
      "  n_estimators = trial.suggest_int('n_estimators', 100, 200, 1)\n",
      "C:\\Users\\SHOLFI\\AppData\\Local\\Temp\\ipykernel_15968\\3494334642.py:4: FutureWarning: suggest_int() got {'step'} as positional arguments but they were expected to be given as keyword arguments.\n",
      "  max_depth = trial.suggest_int('max_depth', 10, 30, 1)\n",
      "C:\\Users\\SHOLFI\\AppData\\Local\\Temp\\ipykernel_15968\\3494334642.py:5: FutureWarning: suggest_int() got {'step'} as positional arguments but they were expected to be given as keyword arguments.\n",
      "  min_samples_leaf = trial.suggest_int('min_samples_leaf', 2, 10, 1)\n",
      "[I 2024-12-15 01:49:26,473] Trial 49 finished with value: 0.8166663290260431 and parameters: {'n_estimators': 133, 'max_depth': 20, 'min_samples_leaf': 2}. Best is trial 49 with value: 0.8166663290260431.\n"
     ]
    },
    {
     "name": "stdout",
     "output_type": "stream",
     "text": [
      "CPU times: total: 52.3 s\n",
      "Wall time: 2min 3s\n"
     ]
    }
   ],
   "source": [
    "%%time\n",
    "# cоздаем объект исследования\n",
    "# можем напрямую указать, что нам необходимо максимизировать метрику direction=\"maximize\"\n",
    "study = optuna.create_study(study_name=\"RandomForestClassifier\", direction=\"maximize\")\n",
    "# ищем лучшую комбинацию гиперпараметров n_trials раз\n",
    "study.optimize(optuna_rf, n_trials=50)"
   ]
  },
  {
   "cell_type": "code",
   "execution_count": 44,
   "metadata": {},
   "outputs": [
    {
     "name": "stdout",
     "output_type": "stream",
     "text": [
      "Наилучшие значения гиперпараметров {'n_estimators': 133, 'max_depth': 20, 'min_samples_leaf': 2}\n",
      "f1_score на обучающем наборе: 0.82\n"
     ]
    }
   ],
   "source": [
    "# выводим результаты на обучающей выборке\n",
    "print(\"Наилучшие значения гиперпараметров {}\".format(study.best_params))\n",
    "print(\"f1_score на обучающем наборе: {:.2f}\".format(study.best_value))"
   ]
  },
  {
   "cell_type": "code",
   "execution_count": 45,
   "metadata": {},
   "outputs": [
    {
     "name": "stdout",
     "output_type": "stream",
     "text": [
      "accuracy на тестовом наборе: 0.80\n",
      "f1_score на тестовом наборе: 0.819\n"
     ]
    }
   ],
   "source": [
    "# рассчитаем точность для тестовой выборки\n",
    "model = ensemble.RandomForestClassifier(**study.best_params,random_state=random_state, )\n",
    "model.fit(X_train, y_train)\n",
    "y_train_pred = model.predict(X_train)\n",
    "print(\"accuracy на тестовом наборе: {:.2f}\".format(model.score(X_test, y_test)))\n",
    "y_test_pred = model.predict(X_test)\n",
    "print('f1_score на тестовом наборе: {:.3f}'.format(metrics.f1_score(y_test, y_test_pred)))"
   ]
  },
  {
   "cell_type": "markdown",
   "metadata": {},
   "source": [
    "---"
   ]
  },
  {
   "cell_type": "code",
   "execution_count": 46,
   "metadata": {},
   "outputs": [
    {
     "data": {
      "text/plain": [
       "'\\nX_train = pd.read_csv(\"../input/bioresponse/train.csv\")\\nX_test =  pd.read_csv(\"../input/bioresponse/test.csv\")\\n\\ny_train = X_train[\"Activity\"]\\n\\nX_train.drop(columns=[\"Activity\"],inplace=True)\\n\\n'"
      ]
     },
     "execution_count": 46,
     "metadata": {},
     "output_type": "execute_result"
    }
   ],
   "source": [
    "'''\n",
    "X_train = pd.read_csv(\"../input/bioresponse/train.csv\")\n",
    "X_test =  pd.read_csv(\"../input/bioresponse/test.csv\")\n",
    "\n",
    "y_train = X_train[\"Activity\"]\n",
    "\n",
    "X_train.drop(columns=[\"Activity\"],inplace=True)\n",
    "\n",
    "'''"
   ]
  },
  {
   "cell_type": "code",
   "execution_count": 47,
   "metadata": {},
   "outputs": [],
   "source": [
    "model = ensemble.RandomForestClassifier(n_estimators = 110, min_samples_leaf = 5, max_depth = 20)"
   ]
  },
  {
   "cell_type": "code",
   "execution_count": 48,
   "metadata": {},
   "outputs": [],
   "source": [
    "model.fit(X_train,y_train)\n",
    "\n",
    "predicted_prob = model.predict_proba(X_test)\n",
    "\n",
    "Probability = predicted_prob[:,1]\n",
    "MoleculeId = np.array(range(1,len(X_test)+1))"
   ]
  },
  {
   "cell_type": "code",
   "execution_count": 49,
   "metadata": {},
   "outputs": [],
   "source": [
    "submission = pd.DataFrame()\n",
    "submission[\"MoleculeId\"] = MoleculeId\n",
    "submission['PredictedProbability'] = Probability"
   ]
  },
  {
   "cell_type": "code",
   "execution_count": 50,
   "metadata": {},
   "outputs": [],
   "source": [
    "submission.to_csv('submission.csv',index=None)"
   ]
  },
  {
   "cell_type": "code",
   "execution_count": 60,
   "metadata": {},
   "outputs": [
    {
     "name": "stdout",
     "output_type": "stream",
     "text": [
      "     MoleculeId  PredictedProbability\n",
      "0             1              0.492342\n",
      "1             2              0.726856\n",
      "2             3              0.173709\n",
      "3             4              0.774189\n",
      "4             5              0.830927\n",
      "..          ...                   ...\n",
      "746         747              0.843204\n",
      "747         748              0.767367\n",
      "748         749              0.913551\n",
      "749         750              0.405257\n",
      "750         751              0.782493\n",
      "\n",
      "[751 rows x 2 columns]\n"
     ]
    }
   ],
   "source": [
    "print(submission)"
   ]
  }
 ],
 "metadata": {
  "kernelspec": {
   "display_name": "Python 3",
   "language": "python",
   "name": "python3"
  },
  "language_info": {
   "codemirror_mode": {
    "name": "ipython",
    "version": 3
   },
   "file_extension": ".py",
   "mimetype": "text/x-python",
   "name": "python",
   "nbconvert_exporter": "python",
   "pygments_lexer": "ipython3",
   "version": "3.12.2"
  }
 },
 "nbformat": 4,
 "nbformat_minor": 2
}
